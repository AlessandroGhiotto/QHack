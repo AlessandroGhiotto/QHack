{
 "cells": [
  {
   "cell_type": "markdown",
   "id": "8c837f2a",
   "metadata": {},
   "source": [
    "## Challenge code\n",
    " \n",
    " In the code below, you are given a few functions:\n",
    " \n",
    " - `calculate_timbit`: This function will return a timbit associated to the operator $U$ and input state $\\rho_0$, given an initial guess  $\\rho$ for the timbit. It returns the density matrix representation of the timbit $\\rho^{*}.$ **You must complete this function**.\n",
    " - `apply_timbit_gate`:  Returns the output density matrix after applying a timbit gate to a state $\\rho_0$.\n",
    "     The input and output density matrices are associated with the first qubit.\n",
    " - `SAT`: uses a timbit gate to solve the\n",
    "   satisfiability problem for an arbitrary Boolean function $f$ (on\n",
    "   `n_bits` bits) with an oracle in matrix form `U_f`, using `q` timbit gates, and `rho` being the initial guess for the NP fixed point. The output should be the computational basis measurement probabilities for the last qubit, which should be `[1. , 0.]` if and only if there are no elements $x$ such that $f(x) =1.$ **You must complete this function**.\n",
    "\n",
    "![img](images/timbit.png)\n",
    " \n",
    " ### Inputs\n",
    " \n",
    " As input to this problem, you are given:\n",
    " \n",
    " - `q (int)`: the number of times the timbit gate is applied to solve the SAT problem.\n",
    " \n",
    " Additionally, you are given the following global variables:\n",
    " \n",
    " - `U_f array(array(float))`:  the oracle $U_f$ we will use to test your solution in matrix form.\n",
    " - `U_NP array(array(float))`: the gate $U_{\\textsf{NP}}$ as defined above.\n",
    " - `rho (array(array(float))`: the initial guess for the stationary state of the timbit gate $\\textsf{T}_{\\textsf{NP}}.$\n",
    " \n",
    " ### Output\n",
    " \n",
    " The output for this challenge corresponds to the output of your `SAT` function. It should produce a `numpy.tensor` of length 2 corresponding to the measurement probabilities in the computational basis for the qubit on which the timbit gates are applied.\n",
    " ### Imports\n",
    " The cell below specifies the libraries you should use in this challenge. Run the cell to import the libraries. ***Do not modify the cell.***"
   ]
  },
  {
   "cell_type": "code",
   "execution_count": 1,
   "id": "6d48529b",
   "metadata": {},
   "outputs": [],
   "source": [
    "import json\n",
    "import pennylane as qml\n",
    "from pennylane import numpy as np\n",
    "import scipy\n",
    "import sympy as sp"
   ]
  },
  {
   "cell_type": "markdown",
   "id": "34d260f7",
   "metadata": {},
   "source": [
    "### Code\n",
    " Complete the code below. Note that during QHack, some sections were not editable. We've marked those sections accordingly here, but you can still edit them if you wish."
   ]
  },
  {
   "cell_type": "code",
   "execution_count": null,
   "id": "193f96d5",
   "metadata": {},
   "outputs": [
    {
     "data": {
      "text/latex": [
       "$\\displaystyle \\left[\\begin{matrix}1 & 0 & 0 & 0\\\\0 & 0 & 0 & 1\\\\0 & 1 & 0 & 0\\\\0 & 0 & 1 & 0\\end{matrix}\\right]$"
      ],
      "text/plain": [
       "Matrix([\n",
       "[1, 0, 0, 0],\n",
       "[0, 0, 0, 1],\n",
       "[0, 1, 0, 0],\n",
       "[0, 0, 1, 0]])"
      ]
     },
     "execution_count": 2,
     "metadata": {},
     "output_type": "execute_result"
    }
   ],
   "source": [
    "# magic gate that is going to find rho^*\n",
    "U_NP = [[1, 0, 0, 0], [0, 0, 0, 1], [0, 1, 0, 0], [0, 0, 1, 0]]\n",
    "\n",
    "sp.Matrix(U_NP)"
   ]
  },
  {
   "cell_type": "code",
   "execution_count": 8,
   "id": "969dbc51",
   "metadata": {},
   "outputs": [
    {
     "data": {
      "text/latex": [
       "$\\displaystyle \\left[\\begin{matrix}0.6 & 0.1 - 0.1 i\\\\0.1 + 0.1 i & 0.4\\end{matrix}\\right]$"
      ],
      "text/plain": [
       "Matrix([\n",
       "[        0.6, 0.1 - 0.1*I],\n",
       "[0.1 + 0.1*I,         0.4]])"
      ]
     },
     "metadata": {},
     "output_type": "display_data"
    },
    {
     "name": "stdout",
     "output_type": "stream",
     "text": [
      "converges to (rho_star) :\n"
     ]
    },
    {
     "data": {
      "text/latex": [
       "$\\displaystyle \\left[\\begin{matrix}0.6 & 0\\\\0 & 0.4\\end{matrix}\\right]$"
      ],
      "text/plain": [
       "Matrix([\n",
       "[0.6,   0],\n",
       "[  0, 0.4]])"
      ]
     },
     "metadata": {},
     "output_type": "display_data"
    }
   ],
   "source": [
    "def calculate_timbit(U, rho_0, rho, n_iters):\n",
    "    \"\"\"\n",
    "    This function will return a timbit associated to the operator U and a state passed as an attribute.\n",
    "\n",
    "    Args:\n",
    "        U (numpy.tensor): A 2-qubit gate in matrix form.\n",
    "        rho_0 (numpy.tensor): The matrix of the input density matrix.\n",
    "        rho (numpy.tensor): A guess at the fixed point C[rho] = rho.\n",
    "        n_iters (int): The number of iterations of C.\n",
    "\n",
    "    Returns:\n",
    "        (numpy.tensor): The fixed point density matrices.\n",
    "    \"\"\"\n",
    "    # this rho is going to converge to the fixed point rho^*\n",
    "    dev = qml.device(\"default.mixed\", wires=2)\n",
    "    @qml.qnode(dev)\n",
    "    def C_U(U, rho_0, rho):\n",
    "        qml.QubitDensityMatrix(rho_0, wires=[0])\n",
    "        qml.QubitDensityMatrix(rho, wires=[1])\n",
    "        qml.QubitUnitary(U, wires=[0, 1])\n",
    "        return qml.density_matrix(wires=1)\n",
    "    \n",
    "    # reapply the U gate n_times\n",
    "    # init\n",
    "    rho_star = C_U(U, rho_0, rho)\n",
    "    # iterate\n",
    "    for _ in range(n_iters - 1):\n",
    "        rho_star = C_U(U, rho_0, rho_star)\n",
    "\n",
    "    return rho_star\n",
    "\n",
    "rho = [[0.6+0.j , 0.1-0.1j],[0.1+0.1j, 0.4+0.j]]\n",
    "rho_0 = [[0.6+0.j , 0.1-0.1j],[0.1+0.1j, 0.4+0.j]]\n",
    "\n",
    "display(sp.Matrix(np.round(rho, 5)))\n",
    "\n",
    "rho_star = calculate_timbit(U_NP, rho_0, rho, 10)\n",
    "print(\"converges to (rho_star) :\")\n",
    "display(sp.Matrix(np.round(rho_star, 5)))"
   ]
  },
  {
   "cell_type": "code",
   "execution_count": null,
   "id": "bab9ed77",
   "metadata": {},
   "outputs": [
    {
     "data": {
      "text/latex": [
       "$\\displaystyle \\left[\\begin{matrix}0.6 & 0.1 - 0.1 i\\\\0.1 + 0.1 i & 0.4\\end{matrix}\\right]$"
      ],
      "text/plain": [
       "Matrix([\n",
       "[        0.6, 0.1 - 0.1*I],\n",
       "[0.1 + 0.1*I,         0.4]])"
      ]
     },
     "metadata": {},
     "output_type": "display_data"
    },
    {
     "data": {
      "text/latex": [
       "$\\displaystyle \\left[\\begin{matrix}0.52 & 0.1 - 0.02 i\\\\0.1 + 0.02 i & 0.48\\end{matrix}\\right]$"
      ],
      "text/plain": [
       "Matrix([\n",
       "[        0.52, 0.1 - 0.02*I],\n",
       "[0.1 + 0.02*I,         0.48]])"
      ]
     },
     "execution_count": 11,
     "metadata": {},
     "output_type": "execute_result"
    }
   ],
   "source": [
    "def apply_timbit_gate(U, rho_0, timbit):\n",
    "    \"\"\"\n",
    "    Function that returns the output density matrix after applying a timbit gate to a state.\n",
    "    The density matrix is the one associated with the first qubit.\n",
    "\n",
    "    Args:\n",
    "        U (numpy.tensor): A 2-qubit gate in matrix form.\n",
    "        rho_0 (numpy.tensor): The matrix of the input density matrix.\n",
    "        timbit (numpy.tensor): The timbit associated with the operator and the state.\n",
    "\n",
    "    Returns:\n",
    "        (numpy.tensor): The output density matrices.\n",
    "    \"\"\"\n",
    "    dev = qml.device(\"default.mixed\", wires=2)\n",
    "    @qml.qnode(dev)\n",
    "    def T_U(U, rho_0, timbit):\n",
    "        qml.QubitDensityMatrix(rho_0, wires=[0])\n",
    "        qml.QubitDensityMatrix(timbit, wires=[1]) # timbit as input instead of rho\n",
    "        qml.QubitUnitary(U, wires=[0, 1])\n",
    "        return qml.density_matrix(wires=0) # for qubit 0 instead of 1\n",
    "    \n",
    "    return T_U(U, rho_0, timbit)\n",
    "\n",
    "    \n",
    "display(sp.Matrix(np.round(rho_0, 5)))\n",
    "\n",
    "rho_out = apply_timbit_gate(U_NP, rho_0, rho)\n",
    "sp.Matrix(np.round(rho_out, 5))"
   ]
  },
  {
   "cell_type": "code",
   "execution_count": 14,
   "id": "0d09aa9a",
   "metadata": {},
   "outputs": [
    {
     "name": "stdout",
     "output_type": "stream",
     "text": [
      "[0.78125 0.21875]\n"
     ]
    }
   ],
   "source": [
    "# inputs:\n",
    "# U_f: our oracle\n",
    "# q: number of times we apply the Timbit gate\n",
    "# rho: initial value of the timbit\n",
    "# n_bits: number of qubits (this is actually n+1. n plus 1 additional qubit for the output)\n",
    "def SAT(U_f, q, rho, n_bits):\n",
    "    \"\"\"A timbit-based algorithm used to guess if a Boolean function ever outputs 1.\n",
    "\n",
    "    Args:\n",
    "        U_f (numpy.tensor): A multi-qubit gate in matrix form.\n",
    "        q (int): Number of times we apply the Timbit gate.\n",
    "        rho (numpy.tensor): An initial guess at the fixed point C[rho] = rho.\n",
    "        n_bits (int): The number of bits the Boolean function is defined on.\n",
    "\n",
    "    Returns:\n",
    "        numpy.tensor: The measurement probabilities on the last wire.\n",
    "    \"\"\"\n",
    "    dev = qml.device(\"default.mixed\", wires=n_bits)\n",
    "    @qml.qnode(dev)\n",
    "    def H_Uf(U_f, n_bits):\n",
    "        for i in range(n_bits - 1):\n",
    "            qml.Hadamard(wires=i)\n",
    "        qml.QubitUnitary(U_f, wires=range(n_bits))\n",
    "        return qml.density_matrix(wires=n_bits - 1)\n",
    "    \n",
    "    # output of the H_Uf gate\n",
    "    rho_0 = H_Uf(U_f, n_bits)\n",
    "\n",
    "    # apply timbit gate q times\n",
    "    for _ in range(q):\n",
    "        timbit = calculate_timbit(U_NP, rho_0, rho, 100)\n",
    "        rho_0 = apply_timbit_gate(U_NP, rho_0, timbit)\n",
    "\n",
    "    @qml.qnode(dev)\n",
    "    def calc_probs():\n",
    "        qml.QubitDensityMatrix(rho_0, wires=n_bits - 1)\n",
    "        return qml.probs(wires=n_bits - 1)\n",
    "    \n",
    "    return calc_probs()\n",
    "\n",
    "\n",
    "I = np.eye(2)\n",
    "X = qml.matrix(qml.PauliX(0))\n",
    "\n",
    "U_f = scipy.linalg.block_diag(I, X, I, I, I, I, I, I)\n",
    "rho = [[0.6+0.j , 0.1-0.1j],[0.1+0.1j, 0.4+0.j]]\n",
    "q = 1\n",
    "n_bits = 4\n",
    "\n",
    "print(SAT(U_f, q, rho, n_bits))\n"
   ]
  },
  {
   "cell_type": "code",
   "execution_count": 18,
   "id": "fbee292c",
   "metadata": {},
   "outputs": [],
   "source": [
    "# NOW WE ARE GOING TO PERFORM SOME CHECK\n",
    "# same as before but we output the density matrix\n",
    "\n",
    "def SAT(U_f, q, rho, n_bits):\n",
    "    dev = qml.device(\"default.mixed\", wires=n_bits)\n",
    "    @qml.qnode(dev)\n",
    "    def H_Uf(U_f, n_bits):\n",
    "        for i in range(n_bits - 1):\n",
    "            qml.Hadamard(wires=i)\n",
    "        qml.QubitUnitary(U_f, wires=range(n_bits))\n",
    "        return qml.density_matrix(wires=n_bits - 1)\n",
    "\n",
    "    rho_0 = H_Uf(U_f, n_bits)\n",
    "    for _ in range(q):\n",
    "        timbit = calculate_timbit(U_NP, rho_0, rho, 100)\n",
    "        rho_0 = apply_timbit_gate(U_NP, rho_0, timbit)\n",
    "\n",
    "    @qml.qnode(dev)\n",
    "    def calc_dm():\n",
    "        qml.QubitDensityMatrix(rho_0, wires=n_bits - 1)\n",
    "        return qml.density_matrix(wires=n_bits - 1)\n",
    "    \n",
    "    return calc_dm()"
   ]
  },
  {
   "cell_type": "code",
   "execution_count": 21,
   "id": "eedfe392",
   "metadata": {},
   "outputs": [
    {
     "data": {
      "text/latex": [
       "$\\displaystyle \\left[\\begin{matrix}0.999995332588558 & 0\\\\0 & 0\\end{matrix}\\right]$"
      ],
      "text/plain": [
       "Matrix([\n",
       "[0.999995332588558, 0],\n",
       "[                0, 0]])"
      ]
     },
     "execution_count": 21,
     "metadata": {},
     "output_type": "execute_result"
    }
   ],
   "source": [
    "# check: if I have no marked elements, I should get rho_out = (I + Z)/2\n",
    "\n",
    "# zero marked element\n",
    "U_f = scipy.linalg.block_diag(I, I, I, I, I, I, I, I)\n",
    "rho = [[0.6+0.j , 0.1-0.1j],[0.1+0.1j, 0.4+0.j]]\n",
    "q = 5\n",
    "n_bits = 4\n",
    "\n",
    "# we see that it approaches the (I + Z)/2 matrix\n",
    "sp.Matrix(SAT(U_f, q, rho, n_bits))"
   ]
  },
  {
   "cell_type": "code",
   "execution_count": null,
   "id": "bc7056f2",
   "metadata": {},
   "outputs": [
    {
     "data": {
      "text/latex": [
       "$\\displaystyle \\left[\\begin{matrix}0.500047565490071 & 0\\\\0 & 0.499947113598848\\end{matrix}\\right]$"
      ],
      "text/plain": [
       "Matrix([\n",
       "[0.500047565490071,                 0],\n",
       "[                0, 0.499947113598848]])"
      ]
     },
     "execution_count": 19,
     "metadata": {},
     "output_type": "execute_result"
    }
   ],
   "source": [
    "# check: if I have one marked element, I should get rho_out = I/2, if q large enough\n",
    "\n",
    "# one marked element\n",
    "U_f = scipy.linalg.block_diag(I, X, I, I, I, I, I, I)\n",
    "rho = [[0.6+0.j , 0.1-0.1j],[0.1+0.1j, 0.4+0.j]]\n",
    "q = 5\n",
    "n_bits = 4\n",
    "\n",
    "# we see that it approaches the I/2 matrix\n",
    "sp.Matrix(SAT(U_f, q, rho, n_bits))"
   ]
  },
  {
   "cell_type": "code",
   "execution_count": 22,
   "id": "c53062ed",
   "metadata": {},
   "outputs": [
    {
     "data": {
      "text/latex": [
       "$\\displaystyle \\left[\\begin{matrix}0.499998129736156 & 0\\\\0 & 0.499998129736156\\end{matrix}\\right]$"
      ],
      "text/plain": [
       "Matrix([\n",
       "[0.499998129736156,                 0],\n",
       "[                0, 0.499998129736156]])"
      ]
     },
     "execution_count": 22,
     "metadata": {},
     "output_type": "execute_result"
    }
   ],
   "source": [
    "# many marked element\n",
    "U_f = scipy.linalg.block_diag(I, X, I, X, I, I, I, X)\n",
    "rho = [[0.6+0.j , 0.1-0.1j],[0.1+0.1j, 0.4+0.j]]\n",
    "q = 5\n",
    "n_bits = 4\n",
    "\n",
    "# we see that it approaches the I/2 matrix\n",
    "sp.Matrix(SAT(U_f, q, rho, n_bits))"
   ]
  },
  {
   "cell_type": "markdown",
   "id": "c465e105",
   "metadata": {},
   "source": [
    "These functions are responsible for testing the solution. You will need to run the cell below. ***Do not modify the cell.***"
   ]
  },
  {
   "cell_type": "code",
   "execution_count": 15,
   "id": "ee61e69c",
   "metadata": {},
   "outputs": [],
   "source": [
    "def run(test_case_input: str) -> str:\n",
    "\n",
    "    I = np.eye(2)\n",
    "    X = qml.matrix(qml.PauliX(0))\n",
    "\n",
    "    U_f = scipy.linalg.block_diag(I, X, I, I, I, I, I, I)\n",
    "    rho = [[0.6+0.j , 0.1-0.1j],[0.1+0.1j, 0.4+0.j]]\n",
    "\n",
    "    q = json.loads(test_case_input)\n",
    "    output = list(SAT(U_f, q, rho,4))\n",
    "\n",
    "    return str(output)\n",
    "\n",
    "def check(solution_output: str, expected_output: str) -> None:\n",
    "\n",
    "    solution_output = json.loads(solution_output)\n",
    "    expected_output = json.loads(expected_output)\n",
    "\n",
    "    rho = [[0.6+0.j , 0.1-0.1j],[0.1+0.1j, 0.4+0.j]]\n",
    "    rho_0 = [[0.6+0.j , 0.1-0.1j],[0.1+0.1j, 0.4+0.j]]\n",
    "\n",
    "    assert np.allclose(\n",
    "        solution_output, expected_output, atol=0.01\n",
    "    ), \"Your NP-solving timbit computer isn't quite right yet!\""
   ]
  },
  {
   "cell_type": "markdown",
   "id": "d9f1313f",
   "metadata": {},
   "source": [
    "### Test cases\n",
    " Running the cell below will load the test cases. ***Do not modify the cell***.\n",
    " - input: 1\n",
    " \t+ expected output: [0.78125, 0.21875]\n",
    " - input: 2\n",
    " \t+ expected output: [0.65820312, 0.34179687]\n",
    " - input: 3\n",
    " \t+ expected output: [0.550056457, 0.449943542]"
   ]
  },
  {
   "cell_type": "code",
   "execution_count": 16,
   "id": "64f20319",
   "metadata": {},
   "outputs": [],
   "source": [
    "test_cases = [['1', '[0.78125, 0.21875]'], ['2', '[0.65820312, 0.34179687]'], ['3', '[0.550056457, 0.449943542]']]"
   ]
  },
  {
   "cell_type": "markdown",
   "id": "3ed76307",
   "metadata": {},
   "source": [
    "### Solution testing\n",
    " Once you have run every cell above, including the one with your code, the cell below will test your solution. Run the cell. If you are correct for all of the test cases, it means your solutions is correct. Otherwise, you need to double check your work. ***Do not modify the cell below.***"
   ]
  },
  {
   "cell_type": "code",
   "execution_count": 17,
   "id": "8e6589ba",
   "metadata": {},
   "outputs": [
    {
     "name": "stdout",
     "output_type": "stream",
     "text": [
      "Running test case 0 with input '1'...\n",
      "Correct!\n",
      "Running test case 1 with input '2'...\n",
      "Correct!\n",
      "Running test case 2 with input '3'...\n",
      "Correct!\n"
     ]
    }
   ],
   "source": [
    "for i, (input_, expected_output) in enumerate(test_cases):\n",
    "    print(f\"Running test case {i} with input '{input_}'...\")\n",
    "\n",
    "    try:\n",
    "        output = run(input_)\n",
    "\n",
    "    except Exception as exc:\n",
    "        print(f\"Runtime Error. {exc}\")\n",
    "\n",
    "    else:\n",
    "        if message := check(output, expected_output):\n",
    "            print(f\"Wrong Answer. Have: '{output}'. Want: '{expected_output}'.\")\n",
    "\n",
    "        else:\n",
    "            print(\"Correct!\")"
   ]
  },
  {
   "cell_type": "code",
   "execution_count": null,
   "id": "26c6e36d",
   "metadata": {},
   "outputs": [],
   "source": []
  }
 ],
 "metadata": {
  "kernelspec": {
   "display_name": "pennylane-gpu",
   "language": "python",
   "name": "python3"
  },
  "language_info": {
   "codemirror_mode": {
    "name": "ipython",
    "version": 3
   },
   "file_extension": ".py",
   "mimetype": "text/x-python",
   "name": "python",
   "nbconvert_exporter": "python",
   "pygments_lexer": "ipython3",
   "version": "3.11.11"
  }
 },
 "nbformat": 4,
 "nbformat_minor": 5
}
