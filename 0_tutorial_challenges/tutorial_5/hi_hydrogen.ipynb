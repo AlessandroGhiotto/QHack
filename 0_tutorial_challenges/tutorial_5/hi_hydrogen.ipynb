{
 "cells": [
  {
   "cell_type": "markdown",
   "id": "9593bdfb",
   "metadata": {},
   "source": [
    "## Challenge code\n",
    " \n",
    " In the code below, you are given a few functions:\n",
    " \n",
    " - `hydrogen_hamiltonian`: This function will return the qubit Hamiltonian of the hydrogen molecule, H$_2$, given the `coordinates` of both hydrogen atoms and the net molecular `charge`. You'll usually find H$_2$ with a charge of 0, but here we'll spice it up with a non-zero charge!\n",
    " - `num_electrons`: In subsequent functions, we'll need the total number of electrons in the hydrogen molecule we're looking at. With a charge of 0, H$_2$ usually has just 2 electrons, one per hydrogen atom. Given the `charge`, how many electrons should H$_2$ have? ***You must complete this function.***\n",
    " - `hf`: The \"HF\" stands for Hartree–Fock. This function's purpose is calculate the HF approximation — treat every electron as independent, electrons move under a Coulomb potential from the positively charged nuclei, and there's a mean field from the other electrons — for the ground state of the hydrogen molecule we're interested in. We'll use this later, so ***you must complete this function.***\n",
    " - `run_VQE`: This function takes the `coordinates`, `charge`, generates the HF state, defines a `cost` function and minimizes it. ***You must complete this function*** by:\n",
    "   + defining the gates within the `cost` function, using the [`qml.AllSinglesDoubles`](https://docs.pennylane.ai/en/stable/code/api/pennylane.AllSinglesDoubles.html) template with `singles` and `doubles` arguments defined below; and\n",
    "   + returning what we want to minimize, namely the expectation value of the hydrogen Hamiltonian! \n",
    " \n",
    " Here are some helpful resources:\n",
    " \n",
    " - [Building molecular Hamiltonians](https://pennylane.ai/qml/demos/tutorial_quantum_chemistry.html)\n",
    " - [A brief overview of VQE](https://pennylane.ai/qml/demos/tutorial_vqe)\n",
    " - [Variational Quantum Eigensolver](https://youtu.be/4Xnxa6tzPeA)\n",
    " - [Quantum Chemistry documentation](https://docs.pennylane.ai/en/stable/introduction/chemistry.html)\n",
    " \n",
    " ### Input \n",
    "\n",
    " ![img](images/daily5.png)\n",
    "\n",
    " ![img](images/daily5_2.png)\n",
    " \n",
    " As input to this problem, you are given:\n",
    " \n",
    " - `coordinates` (`list(float)`): the $x$, $y$, and $z$ coordinates of each hydrogen atom\n",
    " - `charge` (`int`): the charge of the hydrogen molecule. It could be positive, negative, or zero!\n",
    " \n",
    " ### Output\n",
    " \n",
    " This code must output the ground state `energy` (`float`) of the hydrogen molecule in question.\n",
    " \n",
    " If your solution matches the correct one within the given tolerance specified in `check` (in this case it's a `1e-3` relative error tolerance), the output will be `\"Correct!\"` Otherwise, you will receive a `\"Wrong answer\"` prompt.\n",
    " \n",
    " Good luck!\n",
    " ### Imports\n",
    " The cell below specifies the libraries you should use in this challenge. Run the cell to import the libraries. ***Do not modify the cell.***"
   ]
  },
  {
   "cell_type": "code",
   "execution_count": 46,
   "id": "0a8106e0",
   "metadata": {},
   "outputs": [],
   "source": [
    "import json\n",
    "import pennylane as qml\n",
    "from pennylane import numpy as np"
   ]
  },
  {
   "cell_type": "markdown",
   "id": "27b79933",
   "metadata": {},
   "source": [
    "### Code\n",
    " Complete the code below. Note that during QHack, some sections were not editable. We've marked those sections accordingly here, but you can still edit them if you wish."
   ]
  },
  {
   "cell_type": "code",
   "execution_count": 47,
   "id": "4ab13000",
   "metadata": {},
   "outputs": [
    {
     "data": {
      "text/plain": [
       "(\n",
       "    -0.21359179057257 * I(0)\n",
       "  + 0.15603499574064658 * Z(0)\n",
       "  + 0.15603499574064664 * Z(1)\n",
       "  + -0.17937702800901079 * Z(2)\n",
       "  + -0.17937702800901079 * Z(3)\n",
       "  + 0.16362674468200183 * (Z(0) @ Z(1))\n",
       "  + 0.04684119793391368 * (Y(0) @ X(1) @ X(2) @ Y(3))\n",
       "  + -0.04684119793391368 * (Y(0) @ Y(1) @ X(2) @ X(3))\n",
       "  + -0.04684119793391368 * (X(0) @ X(1) @ Y(2) @ Y(3))\n",
       "  + 0.04684119793391368 * (X(0) @ Y(1) @ Y(2) @ X(3))\n",
       "  + 0.11457952447635825 * (Z(0) @ Z(2))\n",
       "  + 0.1614207224102719 * (Z(0) @ Z(3))\n",
       "  + 0.1614207224102719 * (Z(1) @ Z(2))\n",
       "  + 0.11457952447635825 * (Z(1) @ Z(3))\n",
       "  + 0.16964861667411466 * (Z(2) @ Z(3))\n",
       ")"
      ]
     },
     "execution_count": 47,
     "metadata": {},
     "output_type": "execute_result"
    }
   ],
   "source": [
    "def hydrogen_hamiltonian(coordinates, charge):\n",
    "    \"\"\"Calculates the qubit Hamiltonian of the hydrogen molecule.\n",
    "    \n",
    "    Args:\n",
    "        coordinates (list(float)): Cartesian coordinates of each hydrogen molecule.\n",
    "        charge (int): The electric charge given to the hydrogen molecule.\n",
    "\n",
    "    Returns:\n",
    "        (qml.Hamiltonian): A PennyLane Hamiltonian.\n",
    "    \"\"\"\n",
    "    # qchem: Quantum Chemistry module\n",
    "    # qml.qchem.molecular_hamiltonian: compute the Hamiltonian directly\n",
    "    #     returns : H, qubit [we take just the hamiltonian]\n",
    "    # [\"H\", \"H\"]: H_2 molecule\n",
    "    # basis=\"STO-3G\": minimal basis, consists of orthogonal orbitals\n",
    "    symbols = [\"H\", \"H\"]\n",
    "    # return qml.qchem.molecular_hamiltonian(symbols, coordinates, charge=charge, basis=\"STO-3G\")[0]\n",
    "    multiplicity = 1 if charge == 0 else 2\n",
    "    mol = qml.qchem.Molecule(symbols, coordinates, charge=charge, basis_name=\"STO-3G\", mult=multiplicity)\n",
    "    return qml.qchem.molecular_hamiltonian(mol, method='openfermion')[0]\n",
    "\n",
    "coords = np.array([[0.0, 0.0, -0.8], [0.0, 0.0, 0.8]])\n",
    "hydrogen_hamiltonian(coords, -1)"
   ]
  },
  {
   "cell_type": "markdown",
   "id": "b657f883",
   "metadata": {},
   "source": [
    "We get the hamiltonian as sum of pauli strings. an hamiltonian we can use in a quantum circuit"
   ]
  },
  {
   "cell_type": "code",
   "execution_count": 48,
   "id": "ced0e543",
   "metadata": {},
   "outputs": [
    {
     "data": {
      "text/plain": [
       "array([1, 1, 0, 0])"
      ]
     },
     "execution_count": 48,
     "metadata": {},
     "output_type": "execute_result"
    }
   ],
   "source": [
    "def num_electrons(charge):\n",
    "    \"\"\"The total number of electrons in the hydrogen molecule.\n",
    "    \n",
    "    Args:\n",
    "        charge (int): The electric charge given to the hydrogen molecule.\n",
    "\n",
    "    Returns: \n",
    "        (int): The number of electrons.\n",
    "    \"\"\"\n",
    "    # End of uneditable section #\n",
    "\n",
    "    # Put your solution here #\n",
    "    # neutral H2 molecule has 2 electrons\n",
    "    # H2+ (+1 positive charge) has 1 electron\n",
    "    # H2- (-1 negative charge) has 3 electrons\n",
    "    return -charge + 2\n",
    "\n",
    "# Uneditable section #\n",
    "def hf(electrons, num_qubits):\n",
    "    \"\"\"Calculates the Hartree-Fock state of the hydrogen molecule.\n",
    "    \n",
    "    Args:\n",
    "        electrons (int): The number of electrons in the hydrogen molecule.\n",
    "        num_qubits (int): The number of qubits needed to represent the hydrogen molecule Hamiltonian.\n",
    "\n",
    "    Returns:\n",
    "        (numpy.tensor): The HF state.\n",
    "    \"\"\"\n",
    "    # End of uneditable section #\n",
    "\n",
    "    # Put your solution here #\n",
    "    return qml.qchem.hf_state(electrons, num_qubits)\n",
    "\n",
    "hf(2, 4)"
   ]
  },
  {
   "cell_type": "markdown",
   "id": "0282cc06",
   "metadata": {},
   "source": [
    "we have a spin down electron in lowest energy level, a spin up electron in the lowest energy level. and 0 spin down and 0 spin up electron in the second energy level.\n",
    "\n",
    "$\\downarrow\\uparrow$ $\\downarrow\\uparrow$"
   ]
  },
  {
   "cell_type": "code",
   "execution_count": 49,
   "id": "adc3b9d3",
   "metadata": {},
   "outputs": [],
   "source": [
    "# Uneditable section #\n",
    "def run_VQE(coordinates, charge):\n",
    "    \"\"\"Performs a VQE routine for the given hydrogen molecule.\n",
    "\n",
    "    Args:\n",
    "        coordinates (list(float)): Cartesian coordinates of each hydrogen molecule.\n",
    "        charge (int): The electric charge given to the hydrogen molecule.:\n",
    "\n",
    "    Returns:\n",
    "        (float): The expectation value of the hydrogen Hamiltonian.\n",
    "    \"\"\"\n",
    "\n",
    "    hamiltonian = hydrogen_hamiltonian(np.array(coordinates), charge)\n",
    "\n",
    "    electrons = num_electrons(charge)\n",
    "    num_qubits = len(hamiltonian.wires)\n",
    "\n",
    "    hf_state = hf(electrons, num_qubits)\n",
    "    # singles and doubles are used to make the AllSinglesDoubles template\n",
    "    # single and double excitations\n",
    "    singles, doubles = qml.qchem.excitations(electrons, num_qubits)\n",
    "\n",
    "    dev = qml.device(\"default.qubit\", wires=num_qubits)\n",
    "\n",
    "    @qml.qnode(dev)\n",
    "    def cost(weights):\n",
    "        \"\"\"A circuit with tunable parameters/weights that measures the expectation value of the hydrogen Hamiltonian.\n",
    "        \n",
    "        Args:\n",
    "            weights (numpy.array): An array of tunable parameters.\n",
    "\n",
    "        Returns:\n",
    "            (float): The expectation value of the hydrogen Hamiltonian.\n",
    "        \"\"\"\n",
    "        # End of uneditable section #\n",
    "\n",
    "        # Put your solution here #\n",
    "        # AllSinglesDoubles -> apply the single and double excitations template\n",
    "        qml.AllSinglesDoubles(weights, wires=range(num_qubits), hf_state=hf_state, singles=singles, doubles=doubles)\n",
    "        return qml.expval(hamiltonian)\n",
    "\n",
    "# Uneditable section #\n",
    "\n",
    "    np.random.seed = 1234\n",
    "    weights = np.random.normal(\n",
    "        0, np.pi, len(singles) + len(doubles), requires_grad=True\n",
    "    )\n",
    "    opt = qml.AdamOptimizer(0.5)\n",
    "\n",
    "    for _ in range(200):\n",
    "        weights = opt.step(cost, weights)\n",
    "        \n",
    "    return cost(weights)"
   ]
  },
  {
   "cell_type": "markdown",
   "id": "9f566d2d",
   "metadata": {},
   "source": [
    "These functions are responsible for testing the solution. You will need to run the cell below. ***Do not modify the cell.***"
   ]
  },
  {
   "cell_type": "code",
   "execution_count": 50,
   "id": "2206f09e",
   "metadata": {},
   "outputs": [],
   "source": [
    "def run(test_case_input: str) -> str:\n",
    "    coordinates, charge = json.loads(test_case_input)\n",
    "    energy = run_VQE(coordinates, charge)\n",
    "\n",
    "    return str(energy)\n",
    "\n",
    "def check(solution_output: str, expected_output: str) -> None:\n",
    "    solution_output = json.loads(solution_output)\n",
    "    expected_output = json.loads(expected_output)\n",
    "    assert np.allclose(solution_output, expected_output, rtol=1e-3)"
   ]
  },
  {
   "cell_type": "markdown",
   "id": "45642bd3",
   "metadata": {},
   "source": [
    "### Test cases\n",
    " Running the cell below will load the test cases. ***Do not modify the cell***.\n",
    " - input: [[0.0, 0.0, -0.8, 0.0, 0.0, 0.8], -1]\n",
    " \t+ expected output: -0.53168359\n",
    " - input: [[0.0, 0.0, -0.6614, 0.0, 0.0, 0.6614], 0]\n",
    " \t+ expected output: -1.13618883\n",
    " - input: [[0.0, 0.0, -0.72, 0.0, 0.0, 0.72], 1]\n",
    " \t+ expected output: -0.54565673\n",
    " - input: [[0.0, 0.0, -0.45, 0.0, 0.0, 0.45], 0]\n",
    " \t+ expected output: -1.03104296"
   ]
  },
  {
   "cell_type": "code",
   "execution_count": 51,
   "id": "7c633d45",
   "metadata": {},
   "outputs": [],
   "source": [
    "test_cases = [['[[0.0, 0.0, -0.8, 0.0, 0.0, 0.8], -1]', '-0.53168359'], ['[[0.0, 0.0, -0.6614, 0.0, 0.0, 0.6614], 0]', '-1.13618883'], ['[[0.0, 0.0, -0.72, 0.0, 0.0, 0.72], 1]', '-0.54565673'], ['[[0.0, 0.0, -0.45, 0.0, 0.0, 0.45], 0]', '-1.03104296']]"
   ]
  },
  {
   "cell_type": "markdown",
   "id": "e6f7f703",
   "metadata": {},
   "source": [
    "### Solution testing\n",
    " Once you have run every cell above, including the one with your code, the cell below will test your solution. Run the cell. If you are correct for all of the test cases, it means your solutions is correct. Otherwise, you need to double check your work. ***Do not modify the cell below.***"
   ]
  },
  {
   "cell_type": "code",
   "execution_count": 52,
   "id": "daa455f1",
   "metadata": {},
   "outputs": [
    {
     "name": "stdout",
     "output_type": "stream",
     "text": [
      "Running test case 0 with input '[[0.0, 0.0, -0.8, 0.0, 0.0, 0.8], -1]'...\n",
      "Correct!\n",
      "Running test case 1 with input '[[0.0, 0.0, -0.6614, 0.0, 0.0, 0.6614], 0]'...\n",
      "Correct!\n",
      "Running test case 2 with input '[[0.0, 0.0, -0.72, 0.0, 0.0, 0.72], 1]'...\n",
      "Correct!\n",
      "Running test case 3 with input '[[0.0, 0.0, -0.45, 0.0, 0.0, 0.45], 0]'...\n",
      "Correct!\n"
     ]
    }
   ],
   "source": [
    "for i, (input_, expected_output) in enumerate(test_cases):\n",
    "    print(f\"Running test case {i} with input '{input_}'...\")\n",
    "\n",
    "    try:\n",
    "        output = run(input_)\n",
    "\n",
    "    except Exception as exc:\n",
    "        print(f\"Runtime Error. {exc}\")\n",
    "\n",
    "    else:\n",
    "        if message := check(output, expected_output):\n",
    "            print(f\"Wrong Answer. Have: '{output}'. Want: '{expected_output}'.\")\n",
    "\n",
    "        else:\n",
    "            print(\"Correct!\")"
   ]
  },
  {
   "cell_type": "code",
   "execution_count": null,
   "id": "2f892762",
   "metadata": {},
   "outputs": [],
   "source": []
  },
  {
   "cell_type": "code",
   "execution_count": null,
   "id": "70092190",
   "metadata": {},
   "outputs": [],
   "source": []
  }
 ],
 "metadata": {
  "kernelspec": {
   "display_name": "pennylane-gpu",
   "language": "python",
   "name": "python3"
  },
  "language_info": {
   "codemirror_mode": {
    "name": "ipython",
    "version": 3
   },
   "file_extension": ".py",
   "mimetype": "text/x-python",
   "name": "python",
   "nbconvert_exporter": "python",
   "pygments_lexer": "ipython3",
   "version": "3.11.11"
  }
 },
 "nbformat": 4,
 "nbformat_minor": 5
}
