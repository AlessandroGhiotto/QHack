{
 "cells": [
  {
   "cell_type": "markdown",
   "id": "7295d60d",
   "metadata": {},
   "source": [
    "## Challenge code\n",
    " \n",
    " In this challenge you will be given the following functions: \n",
    " - `create_Hamiltonian`: In which you build the Transverse Ising Hamiltonian for $N=4$ and a magnetic field intensity `h`. **You must complete this function.**\n",
    " - `model`: This QNode builds a general enough ansatz for the ground state. This circuit must depend on some parameters `params`, which you will later optimize. It returns the expectation value of the Hamiltonian for the output state of the circuit. **You must complete this function.**\n",
    " - `train`: This function returns the parameters that minimize the output of `model`. **You must complete this function.**\n",
    " \n",
    "![img](images/spaceship_4.png)\n",
    "\n",
    " ### Input\n",
    " \n",
    " As input to this problem, you are given:\n",
    " \n",
    " - `h` (`float`): Magnetic field intensity applied to the spin chain.\n",
    "  \n",
    " ### Output\n",
    " \n",
    " This code will output a `float` corresponding to the energy of the ground state.\n",
    " \n",
    " If your solution matches the correct one within the given tolerance specified in `check` (in this case it's an relative tolerance of `0.1`), the output will be `\"Correct!\"` Otherwise, you will receive a `\"Wrong answer\"` prompt.\n",
    " \n",
    " Good luck!\n",
    " ### Imports\n",
    " The cell below specifies the libraries you should use in this challenge. Run the cell to import the libraries. ***Do not modify the cell.***"
   ]
  },
  {
   "cell_type": "code",
   "execution_count": 1,
   "id": "ec8a5952",
   "metadata": {},
   "outputs": [],
   "source": [
    "import json\n",
    "import pennylane as qml\n",
    "from pennylane import numpy as np"
   ]
  },
  {
   "cell_type": "markdown",
   "id": "c21dbdb8",
   "metadata": {},
   "source": [
    "### Code\n",
    " Complete the code below. Note that during QHack, some sections were not editable. We've marked those sections accordingly here, but you can still edit them if you wish."
   ]
  },
  {
   "cell_type": "code",
   "execution_count": 7,
   "id": "a10e04b2",
   "metadata": {},
   "outputs": [
    {
     "name": "stdout",
     "output_type": "stream",
     "text": [
      "Iteration 0: cost = -2.6318009\n",
      "Iteration 50: cost = -4.9059074\n",
      "Iteration 100: cost = -4.9840945\n",
      "Iteration 150: cost = -5.0740465\n",
      "Iteration 200: cost = -5.1896975\n",
      "Iteration 250: cost = -5.2060574\n",
      "Converged at iteration 264\n"
     ]
    }
   ],
   "source": [
    "num_qubits = 4\n",
    "def create_Hamiltonian(h):\n",
    "    \"\"\"\n",
    "    Function in charge of generating the Hamiltonian of the statement.\n",
    "\n",
    "    Args:\n",
    "        h (float): magnetic field strength\n",
    "\n",
    "    Returns:\n",
    "        (qml.Hamiltonian): Hamiltonian of the statement associated to h\n",
    "    \"\"\"\n",
    "    coeffs1 = num_qubits*[-1]\n",
    "    # (wire+1) % num_qubits do the closed loop magic\n",
    "    obs1 = [qml.PauliZ(wire) @ qml.PauliZ((wire+1) % num_qubits) for wire in range(num_qubits)]\n",
    "    \n",
    "    coeffs2 = num_qubits*[-h]\n",
    "    obs2 = [qml.PauliX(wire) for wire in range(num_qubits)]\n",
    "\n",
    "    coeffs = coeffs1 + coeffs2\n",
    "    obs = obs1 + obs2\n",
    "\n",
    "    # qml.Hamiltonian is just a shortcut for linear combination\n",
    "    return qml.Hamiltonian(coeffs, obs)\n",
    "\n",
    "\n",
    "dev = qml.device(\"default.qubit\", wires=num_qubits)\n",
    "@qml.qnode(dev)\n",
    "def model(params, H):\n",
    "    \"\"\"\n",
    "    To implement VQE you need an ansatz for the candidate ground state!\n",
    "    Define here the VQE ansatz in terms of some parameters (params) that\n",
    "    create the candidate ground state. These parameters will\n",
    "    be optimized later.\n",
    "\n",
    "    Args:\n",
    "        params (numpy.array): parameters to be used in the variational circuit\n",
    "        H (qml.Hamiltonian): Hamiltonian used to calculate the expected value\n",
    "\n",
    "    Returns:\n",
    "        (float): Expected value with respect to the Hamiltonian H\n",
    "    \"\"\"\n",
    "    qml.BasicEntanglerLayers(weights=params[0], wires=range(num_qubits), rotation=qml.RX)\n",
    "    qml.BasicEntanglerLayers(weights=params[1], wires=range(num_qubits), rotation=qml.RY)\n",
    "    qml.BasicEntanglerLayers(weights=params[2], wires=range(num_qubits), rotation=qml.RZ)\n",
    "    return qml.expval(H)\n",
    "\n",
    "\n",
    "def train(h):\n",
    "    \"\"\"\n",
    "    In this function you must design a subroutine that returns the\n",
    "    parameters that best approximate the ground state.\n",
    "\n",
    "    Args:\n",
    "        h (float): magnetic field strength\n",
    "\n",
    "    Returns:\n",
    "        (numpy.array): parameters that best approximate the ground state.\n",
    "    \"\"\"\n",
    "    # gradient descent algorithm\n",
    "    opt = qml.GradientDescentOptimizer(stepsize=0.1)\n",
    "    max_iterations = 1000\n",
    "    conv_tolerance = 1e-4\n",
    "\n",
    "    Hamiltonian = create_Hamiltonian(h)\n",
    "    # 3 sets of variable, for 3 layers, for each qubit (4)\n",
    "    params = np.random.rand(3, 3, num_qubits, requires_grad=True)\n",
    "\n",
    "    for n in range(max_iterations):\n",
    "        params, prev_cost = opt.step_and_cost(model, params, H=Hamiltonian)\n",
    "        new_cost = model(params, Hamiltonian)\n",
    "\n",
    "        if n % 50 == 0:\n",
    "            print(f\"Iteration {n}: cost = {new_cost:.7f}\")\n",
    "\n",
    "        if abs(new_cost - prev_cost) < conv_tolerance:\n",
    "            print(f\"Converged at iteration {n}\")\n",
    "            break\n",
    "\n",
    "    return params\n",
    "\n",
    "inp = 1.0\n",
    "params = train(inp)"
   ]
  },
  {
   "cell_type": "markdown",
   "id": "2ce486e4",
   "metadata": {},
   "source": [
    "These functions are responsible for testing the solution. You will need to run the cell below. ***Do not modify the cell.***"
   ]
  },
  {
   "cell_type": "code",
   "execution_count": 8,
   "id": "8a3c9407",
   "metadata": {},
   "outputs": [],
   "source": [
    "def run(test_case_input: str) -> str:\n",
    "    ins = json.loads(test_case_input)\n",
    "    params = train(ins)\n",
    "    return str(model(params, create_Hamiltonian(ins)))\n",
    "\n",
    "\n",
    "def check(solution_output: str, expected_output: str) -> None:\n",
    "    solution_output = json.loads(solution_output)\n",
    "    expected_output = json.loads(expected_output)\n",
    "    assert np.allclose(\n",
    "        solution_output, expected_output, rtol=1e-1\n",
    "    ), \"The expected value is not correct.\""
   ]
  },
  {
   "cell_type": "markdown",
   "id": "4c802c31",
   "metadata": {},
   "source": [
    "### Test cases\n",
    " Running the cell below will load the test cases. ***Do not modify the cell***.\n",
    " - input: 1.0\n",
    " \t+ expected output: -5.226251859505506\n",
    " - input: 2.3\n",
    " \t+ expected output: -9.66382463698038\n",
    " - input: 0.5\n",
    " \t+ expected output: -4.271558410139714\n",
    " - input: 1.5\n",
    " \t+ expected output: -6.760008550556145"
   ]
  },
  {
   "cell_type": "code",
   "execution_count": 9,
   "id": "c7de27f7",
   "metadata": {},
   "outputs": [],
   "source": [
    "test_cases = [['1.0', '-5.226251859505506'], ['2.3', '-9.66382463698038'], ['0.5', '-4.271558410139714'], ['1.5', '-6.760008550556145']]"
   ]
  },
  {
   "cell_type": "markdown",
   "id": "d534fd42",
   "metadata": {},
   "source": [
    "### Solution testing\n",
    " Once you have run every cell above, including the one with your code, the cell below will test your solution. Run the cell. If you are correct for all of the test cases, it means your solutions is correct. Otherwise, you need to double check your work. ***Do not modify the cell below.***"
   ]
  },
  {
   "cell_type": "code",
   "execution_count": null,
   "id": "f5326c8c",
   "metadata": {},
   "outputs": [
    {
     "name": "stdout",
     "output_type": "stream",
     "text": [
      "Running test case 0 with input '1.0'...\n",
      "Iteration 0: cost = -1.4317228\n",
      "Iteration 50: cost = -4.9133308\n",
      "Iteration 100: cost = -5.0934982\n",
      "Iteration 150: cost = -5.1488610\n",
      "Iteration 200: cost = -5.1783663\n",
      "Iteration 250: cost = -5.1981208\n",
      "Iteration 300: cost = -5.2099124\n",
      "Iteration 350: cost = -5.2166993\n",
      "Converged at iteration 352\n",
      "Correct!\n",
      "Running test case 1 with input '2.3'...\n",
      "Iteration 0: cost = -2.7092314\n",
      "Iteration 50: cost = -9.6091559\n",
      "Iteration 100: cost = -9.6578072\n",
      "Converged at iteration 116\n",
      "Correct!\n",
      "Running test case 2 with input '0.5'...\n",
      "Iteration 0: cost = -1.5429696\n",
      "Iteration 50: cost = -4.0339331\n",
      "Iteration 100: cost = -4.0645979\n",
      "Iteration 150: cost = -4.0976955\n",
      "Iteration 200: cost = -4.1255738\n",
      "Iteration 250: cost = -4.1452355\n",
      "Iteration 300: cost = -4.1573050\n",
      "Iteration 350: cost = -4.1643477\n",
      "Converged at iteration 356\n",
      "Correct!\n",
      "Running test case 3 with input '1.5'...\n",
      "Iteration 0: cost = -2.8173753\n",
      "Iteration 50: cost = -6.5227366\n",
      "Iteration 100: cost = -6.7142083\n",
      "Iteration 150: cost = -6.7400884\n",
      "Iteration 200: cost = -6.7512294\n",
      "Converged at iteration 218\n",
      "Correct!\n"
     ]
    }
   ],
   "source": [
    "for i, (input_, expected_output) in enumerate(test_cases):\n",
    "    print(f\"Running test case {i} with input '{input_}'...\")\n",
    "\n",
    "    try:\n",
    "        output = run(input_)\n",
    "\n",
    "    except Exception as exc:\n",
    "        print(f\"Runtime Error. {exc}\")\n",
    "\n",
    "    else:\n",
    "        if message := check(output, expected_output):\n",
    "            print(f\"Wrong Answer. Have: '{output}'. Want: '{expected_output}'.\")\n",
    "\n",
    "        else:\n",
    "            print(\"Correct!\")"
   ]
  },
  {
   "cell_type": "code",
   "execution_count": null,
   "id": "60869a22",
   "metadata": {},
   "outputs": [],
   "source": []
  }
 ],
 "metadata": {
  "kernelspec": {
   "display_name": "pennylane-gpu",
   "language": "python",
   "name": "python3"
  },
  "language_info": {
   "codemirror_mode": {
    "name": "ipython",
    "version": 3
   },
   "file_extension": ".py",
   "mimetype": "text/x-python",
   "name": "python",
   "nbconvert_exporter": "python",
   "pygments_lexer": "ipython3",
   "version": "3.11.11"
  }
 },
 "nbformat": 4,
 "nbformat_minor": 5
}
