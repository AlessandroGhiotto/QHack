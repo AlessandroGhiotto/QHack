{
 "cells": [
  {
   "cell_type": "markdown",
   "id": "9d5876b4",
   "metadata": {},
   "source": [
    "## Challenge code\n",
    " \n",
    " On one hand you are asked to complete `circuit` (you only need to apply gates).\n",
    " On the other hand you must complete `process_output`, which will take the output of `circuit` (a vector of dimension two where each term can take the value 0 or 1) and will return 2 if $U = RY(2\\pi/3)$ or 4 if $U = RY(4\\pi/3).$\n",
    " \n",
    " ![img](images/2is4.jpeg)\n",
    " \n",
    " ### Output\n",
    " \n",
    " The circuit function will receive the gate $U$ that you are asked to determine. To judge whether your circuit works as expected, we will randomly send 5000 different examples and check that they always classified correctly. Therefore, in this question there are no public or private test cases. They are randomly generated.\n",
    " Good luck!\n",
    " ### Imports\n",
    " The cell below specifies the libraries you should use in this challenge. Run the cell to import the libraries. ***Do not modify the cell.***"
   ]
  },
  {
   "cell_type": "code",
   "execution_count": 12,
   "id": "deccd69a",
   "metadata": {},
   "outputs": [],
   "source": [
    "import json\n",
    "import pennylane as qml\n",
    "from pennylane import numpy as np\n",
    "import sympy as sp"
   ]
  },
  {
   "cell_type": "markdown",
   "id": "06966f63",
   "metadata": {},
   "source": [
    "### Code\n",
    " Complete the code below. Note that during QHack, some sections were not editable. We've marked those sections accordingly here, but you can still edit them if you wish."
   ]
  },
  {
   "cell_type": "code",
   "execution_count": 13,
   "id": "fb82dd26",
   "metadata": {},
   "outputs": [
    {
     "name": "stdout",
     "output_type": "stream",
     "text": [
      "0: ──H────────╭●─────────H──||─╭●──RY(-1.05)─╭X─┤        \n",
      "1: ──RY(2.09)─╰RY(2.09)─────||─╰X────────────╰○─┤  Sample \n",
      "\n",
      "1 \n",
      "\n",
      "\n",
      "0: ──H────────╭●─────────H──||─╭●──RY(-1.05)─╭X─┤        \n",
      "1: ──RY(4.19)─╰RY(4.19)─────||─╰X────────────╰○─┤  Sample \n",
      "\n",
      "0\n"
     ]
    }
   ],
   "source": [
    "# with this circuit we have a one to one correspondence between the\n",
    "# U gate chosen and the output\n",
    "\n",
    "dev = qml.device(\"default.qubit\", wires=2, shots=1)\n",
    "@qml.qnode(dev)\n",
    "def guess_gate(theta):\n",
    "    qml.Hadamard(wires=0)\n",
    "    qml.RY(theta, wires=1)\n",
    "    qml.CRY(theta, wires=[0, 1])\n",
    "    qml.Hadamard(wires=0)\n",
    "    qml.Barrier(only_visual=True)\n",
    "    qml.CNOT(wires=[0, 1])\n",
    "    qml.RY(-np.pi/3, wires=0)\n",
    "    qml.ctrl(qml.PauliX, control=[1], control_values=[0])(wires=[0])\n",
    "    return qml.sample(wires=[1])\n",
    "\n",
    "theta_1 = 2*np.pi/3\n",
    "print(qml.draw(guess_gate)(theta_1), '\\n')\n",
    "print(np.round(guess_gate(theta_1), 3), '\\n\\n')\n",
    "\n",
    "theta_2 = 4*np.pi/3\n",
    "print(qml.draw(guess_gate)(theta_2), '\\n')\n",
    "print(np.round(guess_gate(theta_2), 3))"
   ]
  },
  {
   "cell_type": "code",
   "execution_count": 15,
   "id": "3a0ef2ef",
   "metadata": {},
   "outputs": [
    {
     "name": "stdout",
     "output_type": "stream",
     "text": [
      "0: ──RY(2.09)──RY(2.09)──RY(2.09)─┤  State \n",
      "\n"
     ]
    },
    {
     "data": {
      "text/latex": [
       "$\\displaystyle \\left[\\begin{matrix}-1.0 & 0\\\\0 & -1.0\\end{matrix}\\right]$"
      ],
      "text/plain": [
       "Matrix([\n",
       "[-1.0,    0],\n",
       "[   0, -1.0]])"
      ]
     },
     "metadata": {},
     "output_type": "display_data"
    },
    {
     "name": "stdout",
     "output_type": "stream",
     "text": [
      "\n",
      "\n",
      "\n",
      "0: ──RY(4.19)──RY(4.19)──RY(4.19)─┤  State \n",
      "\n"
     ]
    },
    {
     "data": {
      "text/latex": [
       "$\\displaystyle \\left[\\begin{matrix}1.0 & 0\\\\0 & 1.0\\end{matrix}\\right]$"
      ],
      "text/plain": [
       "Matrix([\n",
       "[1.0,   0],\n",
       "[  0, 1.0]])"
      ]
     },
     "metadata": {},
     "output_type": "display_data"
    }
   ],
   "source": [
    "dev = qml.device(\"default.qubit\", wires=1)\n",
    "\n",
    "@qml.qnode(dev)\n",
    "def qn(theta):\n",
    "    qml.RY(theta, wires=0)\n",
    "    qml.RY(theta, wires=0)\n",
    "    qml.RY(theta, wires=0)\n",
    "    return qml.state()\n",
    "\n",
    "theta_1 = 2*np.pi/3\n",
    "print(qml.draw(qn)(theta_1), '\\n')\n",
    "RY_2x3 = qml.matrix(qn)(theta_1)\n",
    "display(sp.Matrix(np.round(RY_2x3, 3)))\n",
    "print('\\n\\n')\n",
    "\n",
    "theta_2 = 4*np.pi/3\n",
    "print(qml.draw(qn)(theta_2), '\\n')\n",
    "RY_4x3 = qml.matrix(qn)(theta_2)\n",
    "display(sp.Matrix(np.round(RY_4x3, 3)))"
   ]
  },
  {
   "cell_type": "markdown",
   "id": "3abaed37",
   "metadata": {},
   "source": [
    "Applying 3 times the RY gate with angles 2 * pi/2 or 4 * pi/2 is equal to minus the identity or the identity (respectively)"
   ]
  },
  {
   "cell_type": "code",
   "execution_count": null,
   "id": "1b6a4200",
   "metadata": {},
   "outputs": [
    {
     "name": "stdout",
     "output_type": "stream",
     "text": [
      "0: ──H─╭●────────╭●────────╭●─────────H─┤  Sample\n",
      "1: ────╰RY(2.09)─╰RY(2.09)─╰RY(2.09)────┤         \n",
      "\n",
      "1 \n",
      "\n",
      "\n",
      "0: ──H─╭●────────╭●────────╭●─────────H─┤  Sample\n",
      "1: ────╰RY(4.19)─╰RY(4.19)─╰RY(4.19)────┤         \n",
      "\n",
      "0 \n",
      "\n",
      "\n"
     ]
    }
   ],
   "source": [
    "dev = qml.device(\"default.qubit\", wires=2, shots=1)\n",
    "\n",
    "@qml.qnode(dev)\n",
    "def circuit(theta):\n",
    "    qml.Hadamard(wires=0)\n",
    "    qml.CRY(theta, wires=[0, 1])\n",
    "    qml.CRY(theta, wires=[0, 1])\n",
    "    qml.CRY(theta, wires=[0, 1])\n",
    "    qml.Hadamard(wires=0)\n",
    "    return qml.sample(wires=[0])\n",
    "\n",
    "theta_1 = 2*np.pi/3\n",
    "print(qml.draw(circuit)(theta_1), '\\n')\n",
    "print(np.round(circuit(theta_1), 3), '\\n\\n')\n",
    "\n",
    "theta_2 = 4*np.pi/3\n",
    "print(qml.draw(circuit)(theta_2), '\\n')\n",
    "print(np.round(circuit(theta_2), 3), '\\n\\n')"
   ]
  },
  {
   "cell_type": "markdown",
   "id": "31906652",
   "metadata": {},
   "source": [
    "---"
   ]
  },
  {
   "cell_type": "code",
   "execution_count": 33,
   "id": "6d2fd782",
   "metadata": {},
   "outputs": [],
   "source": [
    "# Uneditable section #\n",
    "dev = qml.device(\"default.qubit\", wires=2, shots=1)\n",
    "# dev.operations.add(\"op\")\n",
    "# dev.operations.add(\"C(op)\")\n",
    "# End of uneditable section #\n",
    "\n",
    "@qml.qnode(dev)\n",
    "def circuit(U):\n",
    "    \"\"\"This will be the circuit you will use to determine which of the two angles we have.\n",
    "    Remember that only a single shot will be executed.\n",
    "\n",
    "    Args:\n",
    "        U (qml.ops): It is the gate to discriminate between  RY(2pi/3) or RY(4pi/3).\n",
    "\n",
    "    Returns:\n",
    "        (numpy.tensor): Vector of two elements representing the output measured in each of the qubits.\n",
    "    \"\"\"\n",
    "    # Put your code here #\n",
    "    # to use U,  call 'U(wires = <wire where you want to apply the gate>)'\n",
    "    # to use Control-U, call 'qml.ctrl(U, control = <control wire>)(wires = <wire where you want to apply the gate>)'\n",
    "    qml.Hadamard(wires=0)\n",
    "    qml.ctrl(U, control=0)(wires=1)\n",
    "    qml.ctrl(U, control=0)(wires=1)\n",
    "    qml.ctrl(U, control=0)(wires=1)\n",
    "    qml.Hadamard(wires=0)\n",
    "    return qml.sample(wires=range(2))\n",
    "\n",
    "def process_output(measurement):\n",
    "    \"\"\"This function processes the output of the circuit to discriminate between gates.\n",
    "\n",
    "    Args:\n",
    "        measurement (numpy.array): Output of the previous circuit a vector of dimension 2.\n",
    "\n",
    "    Returns:\n",
    "        (int): return 2 or 4 depending on the associated RY gate.\n",
    "    \"\"\"\n",
    "    # Put your code here #\n",
    "    top_qubit = measurement[0]\n",
    "    if top_qubit:\n",
    "        return 2\n",
    "    else:\n",
    "        return 4"
   ]
  },
  {
   "cell_type": "markdown",
   "id": "8dcd562d",
   "metadata": {},
   "source": [
    "These functions are responsible for testing the solution. You will need to run the cell below. ***Do not modify the cell.***"
   ]
  },
  {
   "cell_type": "code",
   "execution_count": 34,
   "id": "078ca4cb",
   "metadata": {},
   "outputs": [],
   "source": [
    "def run(test_case_input: str) -> str:\n",
    "    return None\n",
    "\n",
    "def check(solution_output: str, expected_output: str) -> None:\n",
    "    numbers = 2 * np.random.randint(1, 3, 5000)\n",
    "\n",
    "    def U2(wires):\n",
    "        class op(qml.operation.Operator):\n",
    "            num_wires = 1\n",
    "\n",
    "            def compute_decomposition(self, wires):\n",
    "                raise ValueError(\"You cannot decompose this gate\")\n",
    "\n",
    "            def matrix(self):\n",
    "                return qml.matrix(qml.RY(2 * np.pi / 3, wires=3))\n",
    "\n",
    "        op(wires=wires)\n",
    "        return None\n",
    "\n",
    "    def U4(wires):\n",
    "        class op(qml.operation.Operator):\n",
    "            num_wires = 1\n",
    "\n",
    "            def compute_decomposition(self, wires):\n",
    "                raise ValueError(\"You cannot decompose this gate\")\n",
    "\n",
    "            def matrix(self):\n",
    "                return qml.matrix(qml.RY(4 * np.pi / 3, wires=3))\n",
    "\n",
    "        op(wires=wires)\n",
    "        return None\n",
    "\n",
    "    output = []\n",
    "    for i in numbers:\n",
    "        if i == 2:\n",
    "            U = U2\n",
    "        else:\n",
    "            U = U4\n",
    "        out = circuit(U)\n",
    "        output.append(process_output(out))\n",
    "\n",
    "    assert np.allclose(\n",
    "        output, numbers, rtol=1e-4\n",
    "    ), \"Your circuit does not give the correct output.\""
   ]
  },
  {
   "cell_type": "markdown",
   "id": "3fe458c7",
   "metadata": {},
   "source": [
    "### Test cases\n",
    " Running the cell below will load the test cases. ***Do not modify the cell***.\n",
    " - input: No input\n",
    " \t+ expected output: No output\n",
    " - input: No input\n",
    " \t+ expected output: No output"
   ]
  },
  {
   "cell_type": "code",
   "execution_count": 35,
   "id": "13041028",
   "metadata": {},
   "outputs": [],
   "source": [
    "test_cases = [['No input', 'No output'], ['No input', 'No output']]"
   ]
  },
  {
   "cell_type": "markdown",
   "id": "d9724287",
   "metadata": {},
   "source": [
    "### Solution testing\n",
    " Once you have run every cell above, including the one with your code, the cell below will test your solution. Run the cell. If you are correct for all of the test cases, it means your solutions is correct. Otherwise, you need to double check your work. ***Do not modify the cell below.***"
   ]
  },
  {
   "cell_type": "code",
   "execution_count": 36,
   "id": "22d40c9e",
   "metadata": {},
   "outputs": [
    {
     "name": "stdout",
     "output_type": "stream",
     "text": [
      "Running test case 0 with input 'No input'...\n",
      "Correct!\n",
      "Running test case 1 with input 'No input'...\n",
      "Correct!\n"
     ]
    }
   ],
   "source": [
    "for i, (input_, expected_output) in enumerate(test_cases):\n",
    "    print(f\"Running test case {i} with input '{input_}'...\")\n",
    "\n",
    "    try:\n",
    "        output = run(input_)\n",
    "\n",
    "    except Exception as exc:\n",
    "        print(f\"Runtime Error. {exc}\")\n",
    "\n",
    "    else:\n",
    "        if message := check(output, expected_output):\n",
    "            print(f\"Wrong Answer. Have: '{output}'. Want: '{expected_output}'.\")\n",
    "\n",
    "        else:\n",
    "            print(\"Correct!\")"
   ]
  },
  {
   "cell_type": "code",
   "execution_count": null,
   "id": "675626c3",
   "metadata": {},
   "outputs": [],
   "source": []
  }
 ],
 "metadata": {
  "kernelspec": {
   "display_name": "pennylane-gpu",
   "language": "python",
   "name": "python3"
  },
  "language_info": {
   "codemirror_mode": {
    "name": "ipython",
    "version": 3
   },
   "file_extension": ".py",
   "mimetype": "text/x-python",
   "name": "python",
   "nbconvert_exporter": "python",
   "pygments_lexer": "ipython3",
   "version": "3.11.11"
  }
 },
 "nbformat": 4,
 "nbformat_minor": 5
}
