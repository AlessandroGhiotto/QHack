{
 "cells": [
  {
   "cell_type": "markdown",
   "id": "e79ecadd",
   "metadata": {},
   "source": [
    "## Challenge code\n",
    " \n",
    " On one hand, you are asked to complete `circuit` (you only need to apply gates). You can only call the `project_execution` operator once, which is already incorporated in the template. \n",
    " On the other hand, you must complete `process_output`, which will take the output of your circuit and will return who the lazy guy is.\n",
    " \n",
    " The `project_execution` function will be generated when testing the solution; if you want to experiment with the function output in the notebook, you can temporarily replace `project_execution` with an operator of the form `qml.MultiControlledX(wires=['e1', 'e2', 'e4', 'result'])`. In this case, the absence of \"e3\" on the wires means that in this project, \"e3\" will be the lazy employee. Just remember to switch it back to project_execution before submitting, so that your function uses the correct project_execution during testing!\n",
    " \n",
    " You may find it useful to do some tests in [Quirk](https://algassert.com/quirk) before you start coding.\n",
    "\n",
    " ![img](images/project_execution.jpeg)\n",
    " \n",
    " ### Output\n",
    " \n",
    " To judge this challenge, we will arbitrarily generate 5000 different projects (`project_execution`), which we will send one by one to the circuit to check that your prediction is correct (\"e1\", \"e2\", \"e3\" or \"e4\"). Therefore, in this case, there will be no public and private test cases. Good luck!\n",
    " ### Imports\n",
    " The cell below specifies the libraries you should use in this challenge. Run the cell to import the libraries. ***Do not modify the cell.***"
   ]
  },
  {
   "cell_type": "code",
   "execution_count": 1,
   "id": "53264cf0",
   "metadata": {},
   "outputs": [],
   "source": [
    "import json\n",
    "import pennylane as qml\n",
    "from pennylane import numpy as np"
   ]
  },
  {
   "cell_type": "markdown",
   "id": "45492f0d",
   "metadata": {},
   "source": [
    "### Code\n",
    " Complete the code below. Note that during QHack, some sections were not editable. We've marked those sections accordingly here, but you can still edit them if you wish."
   ]
  },
  {
   "cell_type": "code",
   "execution_count": 153,
   "id": "d8b95cd9",
   "metadata": {},
   "outputs": [
    {
     "name": "stdout",
     "output_type": "stream",
     "text": [
      "0: ──X─╭●────────╭X──────────────┤  \n",
      "1: ────╰RY(1.91)─╰●─╭●────────╭X─┤  \n",
      "2: ─────────────────╰RY(1.57)─╰●─┤  \n"
     ]
    }
   ],
   "source": [
    "def w_circ(wires):\n",
    "    n = len(wires)\n",
    "    prob_amp = np.sqrt(1/n)\n",
    "    rot_ang = 2*np.arccos(prob_amp)\n",
    "\n",
    "    qml.PauliX(wires=wires[0])\n",
    "\n",
    "    for i in range(n-1):\n",
    "        comp_amp = np.sqrt(1 - i/n)\n",
    "        rot_ang = 2*np.arccos(prob_amp/comp_amp)\n",
    "        qml.CRY(rot_ang, wires=[wires[i], wires[i+1]])\n",
    "        qml.CNOT(wires=[wires[i+1], wires[i]])\n",
    "\n",
    "wires = np.arange(3)\n",
    "print(qml.draw(w_circ)(wires))"
   ]
  },
  {
   "cell_type": "markdown",
   "id": "3c456046",
   "metadata": {},
   "source": [
    "1. prepare $\\ket{-}$ on result wire\n",
    "2. prepare $\\ket{w}$ state, equal superposition of the power of two states $\\ket{0001}$, $\\ket{0010}$, $\\ket{0100}$, $\\ket{1000}$ \n",
    "3. run oracle\n",
    "4. run the W-diffuser\n",
    "5. revert back $\\ket{-}$ "
   ]
  },
  {
   "cell_type": "code",
   "execution_count": null,
   "id": "e6adb0ad",
   "metadata": {},
   "outputs": [],
   "source": [
    "# Uneditable section #\n",
    "dev = qml.device(\"default.qubit\", wires=[\"e1\", \"e2\", \"e3\", \"e4\", \"result\"], shots=1)\n",
    "# dev.capabilities.operations.add(\"op\")\n",
    "# dev_capabilities = qml.devices.capabilities.DeviceCapabilities()\n",
    "# dev_capabilities.operations[\"op\"] = True\n",
    "# dev.capabilities = dev_capabilities\n",
    "\n",
    "wires = [\"e1\", \"e2\", \"e3\", \"e4\", \"result\"]\n",
    "# End of uneditable section #\n",
    "\n",
    "@qml.qnode(dev)\n",
    "def circuit(project_execution):\n",
    "    \"\"\"This is the circuit we will use to detect which is the lazy worker. Remember \n",
    "    that we will only execute one shot.\n",
    "\n",
    "    Args:\n",
    "        project_execution (qml.ops): \n",
    "            The gate in charge of marking in the last qubit if the project has been finished\n",
    "            as indicated in the statement.\n",
    "\n",
    "    Returns:\n",
    "        (numpy.tensor): Measurement output in the 5 qubits after a shot.\n",
    "    \"\"\"\n",
    "\n",
    "    # result_wire = wires[-1] = [\"result\"]\n",
    "    emp_wires = wires[:-1] # = [\"e1\", \"e2\", \"e3\", \"e4\"]\n",
    "         \n",
    "    # prepare | - > state on result qubit\n",
    "    qml.PauliX(wires=wires[-1])\n",
    "    qml.Hadamard(wires=wires[-1])\n",
    "\n",
    "    # prepare w state\n",
    "    qml.Barrier(only_visual=True)\n",
    "    w_circ(wires=emp_wires)\n",
    "    qml.Barrier(only_visual=True)\n",
    "\n",
    "    # oracle\n",
    "    for wire in emp_wires:\n",
    "        qml.PauliX(wire)\n",
    "\n",
    "    project_execution(wires=wires)\n",
    "\n",
    "    for wire in emp_wires:\n",
    "        qml.PauliX(wire)\n",
    "    qml.Barrier(only_visual=True)\n",
    "\n",
    "    # diffuser\n",
    "    qml.adjoint(w_circ)(emp_wires)\n",
    "    qml.Barrier(only_visual=True)\n",
    "    for wire in emp_wires:\n",
    "        qml.PauliX(wire)\n",
    "    ###qml.ctrl(qml.PauliZ, emp_wires[:-1], control_values=[1 for _ in range(len(emp_wires) - 1)])(wires=emp_wires[-1])\n",
    "    # this works as the multi controlled Z gate\n",
    "    # with the control on the - state. at the end we have the same phase shift\n",
    "    # Z|1> = - |1>    X|_> = - |_>\n",
    "    qml.MultiControlledX(wires=wires)\n",
    "    for wire in emp_wires:\n",
    "        qml.PauliX(wire)\n",
    "    qml.Barrier(only_visual=True)\n",
    "    w_circ(emp_wires)\n",
    "    qml.Barrier(only_visual=True)\n",
    "\n",
    "    # revert state | - > on result qubit\n",
    "    qml.Hadamard(wires=wires[-1])\n",
    "    qml.PauliX(wires=wires[-1])\n",
    "    return qml.sample(wires=dev.wires[:-1]) # skip the last qubit\n",
    "\n",
    "\n",
    "def process_output(measurement):\n",
    "    \"\"\"This function will take the circuit measurement and process it to determine who is the lazy worker.\n",
    "\n",
    "    Args:\n",
    "        measurement (numpy.tensor): Measurement output in the 5 qubits after a shot.\n",
    "\n",
    "    Returns:\n",
    "        (str): This function must return \"e1\", \"e2\" \"e3\" or \"e4\" - the lazy worker.\n",
    "    \"\"\"\n",
    "    # Put your code here #\n",
    "    # from [0, 1, 0, 0] to \"e2\"\n",
    "    for n, wire in enumerate(wires):\n",
    "        if measurement[n]:\n",
    "            return wire"
   ]
  },
  {
   "cell_type": "code",
   "execution_count": 165,
   "id": "4f322117",
   "metadata": {},
   "outputs": [
    {
     "name": "stdout",
     "output_type": "stream",
     "text": [
      "    e1: ────────||──X─╭●────────╭X────────────────────────────||──X─╭●──X──||───────────────────────────────────╭X†\n",
      "    e2: ────────||────╰RY(2.09)─╰●─╭●────────╭X───────────────||──X─│───X──||──────────────────╭X†─╭●───────────╰●─\n",
      "    e3: ────────||─────────────────╰RY(1.91)─╰●─╭●────────╭X──||──X─├●──X──||─╭X†─╭●───────────╰●──╰(RY(1.91))†────\n",
      "    e4: ────────||──────────────────────────────╰RY(1.57)─╰●──||──X─├●──X──||─╰●──╰(RY(1.57))†─────────────────────\n",
      "result: ──X──H──||────────────────────────────────────────────||────╰X─────||──────────────────────────────────────\n",
      "\n",
      "──╭●────────────X†──||──X─╭●──X──||──X─╭●────────╭X────────────────────────────||───────┤ ╭Sample\n",
      "──╰(RY(2.09))†──────||──X─├●──X──||────╰RY(2.09)─╰●─╭●────────╭X───────────────||───────┤ ├Sample\n",
      "────────────────────||──X─├●──X──||─────────────────╰RY(1.91)─╰●─╭●────────╭X──||───────┤ ├Sample\n",
      "────────────────────||──X─╰Z──X──||──────────────────────────────╰RY(1.57)─╰●──||───────┤ ╰Sample\n",
      "────────────────────||───────────||────────────────────────────────────────────||──H──X─┤        \n",
      "\n",
      "[0 1 0 0]\n",
      "e2\n"
     ]
    }
   ],
   "source": [
    "# simulate the project execution\n",
    "def e2_lazy(wires):\n",
    "    qml.MultiControlledX(wires=[\"e1\", \"e3\", \"e4\", \"result\"])\n",
    "\n",
    "print(qml.draw(circuit, max_length=120)(e2_lazy), end=\"\\n\\n\")\n",
    "result = circuit(e2_lazy)\n",
    "print(result)\n",
    "print(process_output(result))"
   ]
  },
  {
   "cell_type": "markdown",
   "id": "a64730e7",
   "metadata": {},
   "source": [
    "These functions are responsible for testing the solution. You will need to run the cell below. ***Do not modify the cell.***"
   ]
  },
  {
   "cell_type": "code",
   "execution_count": 166,
   "id": "017a20ff",
   "metadata": {},
   "outputs": [],
   "source": [
    "def run(test_case_input: str) -> str:\n",
    "    return None\n",
    "\n",
    "def check(solution_output: str, expected_output: str) -> None:\n",
    "    samples = 5000\n",
    "\n",
    "    solutions = []\n",
    "    output = []\n",
    "\n",
    "    for s in range(samples):\n",
    "        lazy = np.random.randint(0, 4)\n",
    "        no_lazy = list(range(4))\n",
    "        no_lazy.pop(lazy)\n",
    "\n",
    "        def project_execution(wires):\n",
    "            class op(qml.operation.Operator):\n",
    "                num_wires = 5\n",
    "\n",
    "                def compute_decomposition(self, wires):\n",
    "                    raise ValueError(\"You cant descompose this gate\")\n",
    "\n",
    "                def matrix(self):\n",
    "                    m = np.zeros([32, 32])\n",
    "                    for i in range(32):\n",
    "                        b = [int(j) for j in bin(64 + i)[-5:]]\n",
    "                        if sum(np.array(b)[no_lazy]) == 3:\n",
    "                            if b[-1] == 0:\n",
    "                                m[i, i + 1] = 1\n",
    "                            else:\n",
    "                                m[i, i - 1] = 1\n",
    "                        else:\n",
    "                            m[i, i] = 1\n",
    "                    return m\n",
    "\n",
    "            op(wires=wires)\n",
    "            return None\n",
    "\n",
    "        out = circuit(project_execution)\n",
    "        solutions.append(lazy + 1)\n",
    "        output.append(int(process_output(out)[-1]))\n",
    "\n",
    "    assert np.allclose(\n",
    "        output, solutions, rtol=1e-4\n",
    "    ), \"Your circuit does not give the correct output.\"\n",
    "\n",
    "    operations = qml.workflow.construct_tape(circuit)(project_execution).operations\n",
    "    ops = [op.name for op in operations]\n",
    "    assert ops.count(\"op\") == 1, \"You have used the oracle more than one time.\""
   ]
  },
  {
   "cell_type": "markdown",
   "id": "3f0d2afd",
   "metadata": {},
   "source": [
    "### Test cases\n",
    " Running the cell below will load the test cases. ***Do not modify the cell***.\n",
    " - input: No input\n",
    " \t+ expected output: No output\n",
    " - input: No input\n",
    " \t+ expected output: No output"
   ]
  },
  {
   "cell_type": "code",
   "execution_count": 167,
   "id": "5fbe1de0",
   "metadata": {},
   "outputs": [],
   "source": [
    "test_cases = [['No input', 'No output'], ['No input', 'No output']]"
   ]
  },
  {
   "cell_type": "markdown",
   "id": "461329d5",
   "metadata": {},
   "source": [
    "### Solution testing\n",
    " Once you have run every cell above, including the one with your code, the cell below will test your solution. Run the cell. If you are correct for all of the test cases, it means your solutions is correct. Otherwise, you need to double check your work. ***Do not modify the cell below.***"
   ]
  },
  {
   "cell_type": "code",
   "execution_count": 168,
   "id": "aac1ff52",
   "metadata": {},
   "outputs": [
    {
     "name": "stdout",
     "output_type": "stream",
     "text": [
      "Running test case 0 with input 'No input'...\n",
      "Correct!\n",
      "Running test case 1 with input 'No input'...\n",
      "Correct!\n"
     ]
    }
   ],
   "source": [
    "for i, (input_, expected_output) in enumerate(test_cases):\n",
    "    print(f\"Running test case {i} with input '{input_}'...\")\n",
    "\n",
    "    try:\n",
    "        output = run(input_)\n",
    "\n",
    "    except Exception as exc:\n",
    "        print(f\"Runtime Error. {exc}\")\n",
    "\n",
    "    else:\n",
    "        if message := check(output, expected_output):\n",
    "            print(f\"Wrong Answer. Have: '{output}'. Want: '{expected_output}'.\")\n",
    "\n",
    "        else:\n",
    "            print(\"Correct!\")"
   ]
  },
  {
   "cell_type": "code",
   "execution_count": null,
   "id": "c5987a59",
   "metadata": {},
   "outputs": [],
   "source": []
  }
 ],
 "metadata": {
  "kernelspec": {
   "display_name": "pennylane-gpu",
   "language": "python",
   "name": "python3"
  },
  "language_info": {
   "codemirror_mode": {
    "name": "ipython",
    "version": 3
   },
   "file_extension": ".py",
   "mimetype": "text/x-python",
   "name": "python",
   "nbconvert_exporter": "python",
   "pygments_lexer": "ipython3",
   "version": "3.11.11"
  }
 },
 "nbformat": 4,
 "nbformat_minor": 5
}
