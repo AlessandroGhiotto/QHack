{
 "cells": [
  {
   "cell_type": "markdown",
   "id": "4cd09aea",
   "metadata": {},
   "source": [
    "## Challenge code\n",
    " \n",
    " You must complete the `linear_combination` function to build the above circuit that implements the linear combination\n",
    " \n",
    " $$ \n",
    " \\alpha U + \\beta V\n",
    " $$ \n",
    " \n",
    " of two single-qubit unitaries U and V, and returns the probabilities on the auxiliary register. For simplicity, we take $\\alpha$ and $\\beta$ to be positive real numbers.\n",
    " \n",
    " As a helper function, you are also asked to complete the `W` function, which returns the unitary $W(\\alpha,\\beta).$\n",
    " \n",
    " ### Input\n",
    " \n",
    " As input to this problem, you are given:\n",
    " \n",
    " - `U` (`list(list(float))`): A $2\\times 2$ matrix representing the single-qubit unitary operator $U$.\n",
    " - `V` (`list(list(float))`): A $2\\times 2$ matrix representing the single-qubit unitary operator $V$\n",
    " - `alpha` (`float`): The prefactor $\\alpha$ of $U$ in the linear combination, as above.\n",
    " - `beta` (`float`): The prefactor $\\beta$ of $V$ in the linear combination, as above.\n",
    "  \n",
    " ### Output\n",
    " \n",
    " The output used to test your solution is a `float` corresponding to the probability of measuring $\\vert 0 \\rangle$ on the main register. This is the first element of your output of `linear_combination`. We will extract this element for you in our testing functions!\n",
    " \n",
    " If your solution matches the correct one within the given tolerance specified in `check` (in this case it's an absolute tolerance of `0.001`), the output will be `\"Correct!\"` Otherwise, you will receive a `\"Wrong answer\"` prompt.\n",
    " \n",
    " Good luck!\n",
    " ### Imports\n",
    " The cell below specifies the libraries you should use in this challenge. Run the cell to import the libraries. ***Do not modify the cell.***"
   ]
  },
  {
   "cell_type": "code",
   "execution_count": null,
   "id": "8a4cc8a5",
   "metadata": {},
   "outputs": [],
   "source": [
    "import json\n",
    "import pennylane as qml\n",
    "from pennylane import numpy as np"
   ]
  },
  {
   "cell_type": "markdown",
   "id": "d5b378c7",
   "metadata": {},
   "source": [
    "### Code\n",
    " Complete the code below. Note that during QHack, some sections were not editable. We've marked those sections accordingly here, but you can still edit them if you wish."
   ]
  },
  {
   "cell_type": "code",
   "execution_count": null,
   "id": "2fe7c0c6",
   "metadata": {},
   "outputs": [],
   "source": [
    "# Uneditable section #\n",
    "def W(alpha, beta):\n",
    "    \"\"\" This function returns the matrix W in terms of\n",
    "    the coefficients alpha and beta\n",
    "\n",
    "    Args:\n",
    "        - alpha (float): The prefactor alpha of U in the linear combination, as in the\n",
    "        challenge statement.\n",
    "        - beta (float): The prefactor beta of V in the linear combination, as in the\n",
    "        challenge statement.\n",
    "    Returns \n",
    "        -(numpy.ndarray): A 2x2 matrix representing the operator W,\n",
    "        as defined in the challenge statement\n",
    "    \"\"\"\n",
    "    # End of uneditable section #\n",
    "\n",
    "    # Put your code here #\n",
    "    # Return the real matrix of the unitary W, in terms of the coefficients.\n",
    "\n",
    "\n",
    "# Uneditable section #\n",
    "dev = qml.device('default.qubit', wires = 2)\n",
    "\n",
    "@qml.qnode(dev)\n",
    "def linear_combination(U, V,  alpha, beta):\n",
    "    \"\"\"This circuit implements the circuit that probabilistically calculates the linear combination \n",
    "    of the unitaries.\n",
    "\n",
    "    Args:\n",
    "        - U (list(list(float))): A 2x2 matrix representing the single-qubit unitary operator U.\n",
    "        - V (list(list(float))): A 2x2 matrix representing the single-qubit unitary operator U.\n",
    "        - alpha (float): The prefactor alpha of U in the linear combination, as above.\n",
    "        - beta (float): The prefactor beta of V in the linear combination, as above.\n",
    "\n",
    "    Returns:\n",
    "        -(numpy.tensor): Probabilities of measuring the computational\n",
    "        basis states on the auxiliary wire. \n",
    "    \"\"\"\n",
    "\n",
    "    # End of uneditable section #\n",
    "\n",
    "    # Put your code here #\n",
    "    # Return the probabilities on the first wire"
   ]
  },
  {
   "cell_type": "markdown",
   "id": "90dcc491",
   "metadata": {},
   "source": [
    "These functions are responsible for testing the solution. You will need to run the cell below. ***Do not modify the cell.***"
   ]
  },
  {
   "cell_type": "code",
   "execution_count": null,
   "id": "dc103e06",
   "metadata": {},
   "outputs": [],
   "source": [
    "def run(test_case_input: str) -> str:\n",
    "    dev = qml.device('default.qubit', wires = 2)\n",
    "    ins = json.loads(test_case_input)\n",
    "    output = linear_combination(*ins)[0].numpy()\n",
    "\n",
    "    return str(output)\n",
    "\n",
    "def check(solution_output: str, expected_output: str) -> None:\n",
    "    solution_output = json.loads(solution_output)\n",
    "    expected_output = json.loads(expected_output)\n",
    "    assert np.allclose(\n",
    "        solution_output, expected_output, rtol=1e-4\n",
    "    ), \"Your circuit doesn't look quite right \""
   ]
  },
  {
   "cell_type": "markdown",
   "id": "87e2573f",
   "metadata": {},
   "source": [
    "### Test cases\n",
    " Running the cell below will load the test cases. ***Do not modify the cell***.\n",
    " - input: [[[ 0.70710678,  0.70710678], [ 0.70710678, -0.70710678]],[[1, 0], [0, -1]], 1, 3]\n",
    " \t+ expected output: 0.8901650422902458\n",
    " - input: [[[0, 1],[1, 0]],[[1, 0], [0, -1]], 1, 2]\n",
    " \t+ expected output: 0.5555555555555559\n",
    " - input: [[[ 0.98877108, -0.14943813], [ 0.14943813,  0.98877108]],[[ 0.70710678,  0.70710678], [ 0.70710678, -0.70710678]], 2, 1]\n",
    " \t+ expected output: 0.9132602008678633"
   ]
  },
  {
   "cell_type": "code",
   "execution_count": null,
   "id": "6f23ebf1",
   "metadata": {},
   "outputs": [],
   "source": [
    "test_cases = [['[[[ 0.70710678,  0.70710678], [ 0.70710678, -0.70710678]],[[1, 0], [0, -1]], 1, 3]', '0.8901650422902458'], ['[[[0, 1],[1, 0]],[[1, 0], [0, -1]], 1, 2]', '0.5555555555555559'], ['[[[ 0.98877108, -0.14943813], [ 0.14943813,  0.98877108]],[[ 0.70710678,  0.70710678], [ 0.70710678, -0.70710678]], 2, 1]', '0.9132602008678633']]"
   ]
  },
  {
   "cell_type": "markdown",
   "id": "0a5dd8ed",
   "metadata": {},
   "source": [
    "### Solution testing\n",
    " Once you have run every cell above, including the one with your code, the cell below will test your solution. Run the cell. If you are correct for all of the test cases, it means your solutions is correct. Otherwise, you need to double check your work. ***Do not modify the cell below.***"
   ]
  },
  {
   "cell_type": "code",
   "execution_count": null,
   "id": "448a2e7e",
   "metadata": {},
   "outputs": [],
   "source": [
    "for i, (input_, expected_output) in enumerate(test_cases):\n",
    "    print(f\"Running test case {i} with input '{input_}'...\")\n",
    "\n",
    "    try:\n",
    "        output = run(input_)\n",
    "\n",
    "    except Exception as exc:\n",
    "        print(f\"Runtime Error. {exc}\")\n",
    "\n",
    "    else:\n",
    "        if message := check(output, expected_output):\n",
    "            print(f\"Wrong Answer. Have: '{output}'. Want: '{expected_output}'.\")\n",
    "\n",
    "        else:\n",
    "            print(\"Correct!\")"
   ]
  }
 ],
 "metadata": {},
 "nbformat": 4,
 "nbformat_minor": 5
}
