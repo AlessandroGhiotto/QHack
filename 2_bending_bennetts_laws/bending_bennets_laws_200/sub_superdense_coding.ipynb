{
 "cells": [
  {
   "cell_type": "code",
   "execution_count": 9,
   "id": "737c91e2",
   "metadata": {},
   "outputs": [],
   "source": [
    "import numpy as np\n",
    "from qiskit import QuantumCircuit, transpile\n",
    "from qiskit.quantum_info import Operator, Statevector\n",
    "from qiskit.visualization import array_to_latex, plot_distribution\n",
    "from qiskit.circuit.library import ZGate\n",
    "from qiskit_aer import Aer"
   ]
  },
  {
   "cell_type": "code",
   "execution_count": 10,
   "id": "6a1cebe0",
   "metadata": {},
   "outputs": [
    {
     "data": {
      "image/png": "[encoded data removed]",
      "text/plain": [
       "<Figure size 371.107x284.278 with 1 Axes>"
      ]
     },
     "execution_count": 10,
     "metadata": {},
     "output_type": "execute_result"
    }
   ],
   "source": [
    "qc = QuantumCircuit(3)\n",
    "qc.h(2)\n",
    "qc.cx(2, 1)\n",
    "qc.cx(2, 0)\n",
    "\n",
    "qc.draw(reverse_bits=True)"
   ]
  },
  {
   "cell_type": "code",
   "execution_count": 11,
   "id": "b284420a",
   "metadata": {},
   "outputs": [
    {
     "data": {
      "text/latex": [
       "$$\\frac{\\sqrt{2}}{2} |000\\rangle+\\frac{\\sqrt{2}}{2} |111\\rangle$$"
      ],
      "text/plain": [
       "<IPython.core.display.Latex object>"
      ]
     },
     "metadata": {},
     "output_type": "display_data"
    },
    {
     "data": {
      "text/latex": [
       "$$\\frac{\\sqrt{2}}{2} |001\\rangle+\\frac{\\sqrt{2}}{2} |110\\rangle$$"
      ],
      "text/plain": [
       "<IPython.core.display.Latex object>"
      ]
     },
     "metadata": {},
     "output_type": "display_data"
    },
    {
     "data": {
      "text/latex": [
       "$$\\frac{\\sqrt{2}}{2} |010\\rangle+\\frac{\\sqrt{2}}{2} |101\\rangle$$"
      ],
      "text/plain": [
       "<IPython.core.display.Latex object>"
      ]
     },
     "metadata": {},
     "output_type": "display_data"
    },
    {
     "data": {
      "text/latex": [
       "$$\\frac{\\sqrt{2}}{2} |011\\rangle+\\frac{\\sqrt{2}}{2} |100\\rangle$$"
      ],
      "text/plain": [
       "<IPython.core.display.Latex object>"
      ]
     },
     "metadata": {},
     "output_type": "display_data"
    },
    {
     "data": {
      "text/latex": [
       "$$\\frac{\\sqrt{2}}{2} |000\\rangle- \\frac{\\sqrt{2}}{2} |111\\rangle$$"
      ],
      "text/plain": [
       "<IPython.core.display.Latex object>"
      ]
     },
     "metadata": {},
     "output_type": "display_data"
    },
    {
     "data": {
      "text/latex": [
       "$$\\frac{\\sqrt{2}}{2} |001\\rangle- \\frac{\\sqrt{2}}{2} |110\\rangle$$"
      ],
      "text/plain": [
       "<IPython.core.display.Latex object>"
      ]
     },
     "metadata": {},
     "output_type": "display_data"
    },
    {
     "data": {
      "text/latex": [
       "$$\\frac{\\sqrt{2}}{2} |010\\rangle- \\frac{\\sqrt{2}}{2} |101\\rangle$$"
      ],
      "text/plain": [
       "<IPython.core.display.Latex object>"
      ]
     },
     "metadata": {},
     "output_type": "display_data"
    },
    {
     "data": {
      "text/latex": [
       "$$\\frac{\\sqrt{2}}{2} |011\\rangle- \\frac{\\sqrt{2}}{2} |100\\rangle$$"
      ],
      "text/plain": [
       "<IPython.core.display.Latex object>"
      ]
     },
     "metadata": {},
     "output_type": "display_data"
    }
   ],
   "source": [
    "# generate all possible input states 000, 001,... 111\n",
    "# and their corresponding output states\n",
    "n_states = 2**3\n",
    "for n in range(n_states):\n",
    "    sv = Statevector.from_int(n, n_states)\n",
    "    sv = sv.evolve(qc)\n",
    "    display(sv)\n",
    "\n",
    "# |0>|00> -> |0>|00> + |1>|11> (|0> with the og last 2 qubits + |1> with the flipped last 2 qubits)\n",
    "# |0>|01> -> |0>|01> + |1>|10>\n",
    "# |0>|10> -> |0>|10> + |1>|01>\n",
    "# |0>|11> -> |0>|11> + |1>|00>\n",
    "\n",
    "### same as before but with a phase shift \n",
    "# |1>|00> -> |0>|00> - |1>|11> (|0> with the og last 2 qubits - |1> with the flipped last 2 qubits)\n",
    "# |1>|01> -> |0>|01> - |1>|10>\n",
    "# |1>|10> -> |0>|10> - |1>|01>\n",
    "# |1>|11> -> |0>|11> - |1>|00>"
   ]
  },
  {
   "cell_type": "markdown",
   "id": "22cfe6be",
   "metadata": {},
   "source": [
    "## Challenge code\n",
    " \n",
    " You simply have to complete two quantum functions:\n",
    " \n",
    " - `encode`: quantum function that will define an operator to be applied only on Zenda's qubits. This function will depend on the bits $(i,j,k)$ to be encoded.\n",
    " \n",
    " \n",
    " - `decode`: quantum function that defines the operator that Reece will use to retrieve the bits that Zenda sent. In this case, the operator does not have any information about Zenda's bits, so the same operators will always be applied regardless of the state that Zenda sends Reece.\n",
    " \n",
    "![img](images/model_superdense.jpeg)\n",
    "\n",
    "![img](images/sd.png)\n",
    "\n",
    " ### Output\n",
    " \n",
    " In this challenge, we will not judge your solution using public or private test cases. Instead, we will check that, for all combinations of $i$, $j$, and $k$, the entire encoding and decoding circuit behaves as expected.\n",
    " \n",
    " ### Imports\n",
    " The cell below specifies the libraries you should use in this challenge. Run the cell to import the libraries. ***Do not modify the cell.***"
   ]
  },
  {
   "cell_type": "code",
   "execution_count": 12,
   "id": "a551989c",
   "metadata": {},
   "outputs": [],
   "source": [
    "import pennylane as qml\n",
    "from pennylane import numpy as np"
   ]
  },
  {
   "cell_type": "markdown",
   "id": "c3062623",
   "metadata": {},
   "source": [
    "### Code\n",
    " Complete the code below. Note that during QHack, some sections were not editable. We've marked those sections accordingly here, but you can still edit them if you wish."
   ]
  },
  {
   "cell_type": "code",
   "execution_count": null,
   "id": "9dc25702",
   "metadata": {},
   "outputs": [
    {
     "name": "stdout",
     "output_type": "stream",
     "text": [
      "0: ──H─╭●─╭●──||──||─╭●─╭●──H─┤ ╭Probs\n",
      "1: ────╰X─│───||──||─│──╰X────┤ ├Probs\n",
      "2: ───────╰X──||──||─╰X───────┤ ╰Probs \n",
      "\n",
      "[1. 0. 0. 0. 0. 0. 0. 0.] \n",
      "\n",
      "\n",
      "0: ──H─╭●─╭●──||──X──||─╭●─╭●──H─┤ ╭Probs\n",
      "1: ────╰X─│───||──X──||─│──╰X────┤ ├Probs\n",
      "2: ───────╰X──||─────||─╰X───────┤ ╰Probs \n",
      "\n",
      "[0. 1. 0. 0. 0. 0. 0. 0.] \n",
      "\n",
      "\n",
      "0: ──H─╭●─╭●──||─────||─╭●─╭●──H─┤ ╭Probs\n",
      "1: ────╰X─│───||──X──||─│──╰X────┤ ├Probs\n",
      "2: ───────╰X──||─────||─╰X───────┤ ╰Probs \n",
      "\n",
      "[0. 0. 1. 0. 0. 0. 0. 0.] \n",
      "\n",
      "\n"
     ]
    }
   ],
   "source": [
    "# Uneditable section #\n",
    "def encode(i, j, k):\n",
    "    \"\"\"\n",
    "    Quantum encoding function. It must act only on the first two qubits.\n",
    "    This function does not return anything, it simply applies gates.\n",
    "\n",
    "    Args:\n",
    "        i, j, k (int): The three encoding bits. They will take the values 1 or 0.\n",
    "\n",
    "    \"\"\"\n",
    "    # End of uneditable section #\n",
    "\n",
    "    if k == 1:\n",
    "        qml.PauliX(wires=0)\n",
    "        qml.PauliX(wires=1)\n",
    "    if j == 1:\n",
    "        qml.PauliX(wires=1)\n",
    "    if i == 1:\n",
    "        qml.PauliZ(wires=1)\n",
    "\n",
    "    # if (i, j, k) == (0, 0, 0):\n",
    "    #     pass\n",
    "    # elif (i, j, k) == (0, 0, 1):\n",
    "    #     qml.PauliX(0)\n",
    "    #     qml.PauliX(1)\n",
    "    # elif (i, j, k) == (0, 1, 0):\n",
    "    #     qml.PauliX(1)\n",
    "    # elif (i, j, k) == (0, 1, 1):\n",
    "    #     qml.PauliX(0)\n",
    "    # elif (i, j, k) == (1, 0, 0):\n",
    "    #     qml.PauliZ(0)\n",
    "    # elif (i, j, k) == (1, 0, 1):\n",
    "    #     qml.PauliX(0)\n",
    "    #     qml.PauliX(1)\n",
    "    #     qml.PauliZ(0)\n",
    "    # elif (i, j, k) == (1, 1, 0):\n",
    "    #     qml.PauliX(1)\n",
    "    #     qml.PauliZ(0)\n",
    "    # elif (i, j, k) == (1, 1, 1):\n",
    "    #     qml.PauliX(0)\n",
    "    #     qml.PauliZ(1)\n",
    "\n",
    "\n",
    "# Uneditable section #\n",
    "def decode():\n",
    "    \"\"\"\n",
    "    Quantum decoding function. It can act on the three qubits.\n",
    "    This function does not return anything, it simply applies gates.\n",
    "    \"\"\"\n",
    "\n",
    "    # End of uneditable section #\n",
    "\n",
    "    # Put your code here #\n",
    "    # Reverse GHZ\n",
    "    qml.CNOT(wires=[0, 2])\n",
    "    qml.CNOT(wires=[0, 1])\n",
    "    qml.Hadamard(wires=0)\n",
    "\n",
    "# Uneditable section #\n",
    "dev = qml.device(\"default.qubit\", wires=3)\n",
    "\n",
    "@qml.qnode(dev)\n",
    "def circuit(i, j, k):\n",
    "    \"\"\"\n",
    "    Circuit that generates the complete communication protocol.\n",
    "\n",
    "    Args:\n",
    "        i, j, k (int): The three encoding bits. They will take the value 1 or 0.\n",
    "    \"\"\"\n",
    "\n",
    "    # We prepare the state 1/sqrt(2)(|000> + |111>)\n",
    "    # the GHZ gaet\n",
    "    qml.Hadamard(wires=0)\n",
    "    qml.CNOT(wires=[0, 1])\n",
    "    qml.CNOT(wires=[0, 2])\n",
    "\n",
    "    # Zenda encodes the bitsù\n",
    "    qml.Barrier(only_visual=True)\n",
    "    encode(i, j, k)\n",
    "\n",
    "    # Reece decode the information\n",
    "    qml.Barrier(only_visual=True)\n",
    "    decode()\n",
    "\n",
    "    return qml.probs(wires=range(3))\n",
    "\n",
    "print(qml.draw(circuit)(0, 0, 0), \"\\n\")\n",
    "print(circuit(0, 0, 0), \"\\n\\n\")\n",
    "\n",
    "print(qml.draw(circuit)(0, 0, 1), \"\\n\")\n",
    "print(circuit(0, 0, 1), \"\\n\\n\")\n",
    "\n",
    "print(qml.draw(circuit)(0, 1, 0), \"\\n\")\n",
    "print(circuit(0, 1, 0), \"\\n\\n\")"
   ]
  },
  {
   "cell_type": "markdown",
   "id": "19fb1d66",
   "metadata": {},
   "source": [
    "These functions are responsible for testing the solution. You will need to run the cell below. ***Do not modify the cell.***"
   ]
  },
  {
   "cell_type": "code",
   "execution_count": 29,
   "id": "c4b19c6f",
   "metadata": {},
   "outputs": [],
   "source": [
    "def run(test_case_input: str) -> str:\n",
    "\n",
    "    return None\n",
    "\n",
    "def check(solution_output: str, expected_output: str) -> None:\n",
    "\n",
    "    for i in range(2):\n",
    "        for j in range(2):\n",
    "            for k in range(2):\n",
    "                assert np.isclose(circuit(i, j , k)[4 * i + 2 * j + k],1)\n",
    "\n",
    "                dev = qml.device(\"default.qubit\", wires=3)\n",
    "\n",
    "                @qml.qnode(dev)\n",
    "                def circuit2(i, j, k):\n",
    "                    encode(i, j, k)\n",
    "                    return qml.probs(wires=range(3))\n",
    "\n",
    "                circuit2(i, j, k)\n",
    "                ops = qml.workflow.construct_tape(circuit2)(i, j, k).operations\n",
    "\n",
    "                for op in ops:\n",
    "                    assert not (2 in op.wires), \"Invalid connection between qubits.\""
   ]
  },
  {
   "cell_type": "markdown",
   "id": "1f8a597f",
   "metadata": {},
   "source": [
    "### Test cases\n",
    " Running the cell below will load the test cases. ***Do not modify the cell***.\n",
    " - input: No input\n",
    " \t+ expected output: No output\n",
    " - input: No input\n",
    " \t+ expected output: No output"
   ]
  },
  {
   "cell_type": "code",
   "execution_count": 30,
   "id": "c194148e",
   "metadata": {},
   "outputs": [],
   "source": [
    "test_cases = [['No input', 'No output'], ['No input', 'No output']]"
   ]
  },
  {
   "cell_type": "markdown",
   "id": "a81a70bb",
   "metadata": {},
   "source": [
    "### Solution testing\n",
    " Once you have run every cell above, including the one with your code, the cell below will test your solution. Run the cell. If you are correct for all of the test cases, it means your solutions is correct. Otherwise, you need to double check your work. ***Do not modify the cell below.***"
   ]
  },
  {
   "cell_type": "code",
   "execution_count": 31,
   "id": "c012680c",
   "metadata": {},
   "outputs": [
    {
     "name": "stdout",
     "output_type": "stream",
     "text": [
      "Running test case 0 with input 'No input'...\n",
      "Correct!\n",
      "Running test case 1 with input 'No input'...\n",
      "Correct!\n"
     ]
    }
   ],
   "source": [
    "for i, (input_, expected_output) in enumerate(test_cases):\n",
    "    print(f\"Running test case {i} with input '{input_}'...\")\n",
    "\n",
    "    try:\n",
    "        output = run(input_)\n",
    "\n",
    "    except Exception as exc:\n",
    "        print(f\"Runtime Error. {exc}\")\n",
    "\n",
    "    else:\n",
    "        if message := check(output, expected_output):\n",
    "            print(f\"Wrong Answer. Have: '{output}'. Want: '{expected_output}'.\")\n",
    "\n",
    "        else:\n",
    "            print(\"Correct!\")"
   ]
  },
  {
   "cell_type": "code",
   "execution_count": null,
   "id": "dc0ae45e",
   "metadata": {},
   "outputs": [],
   "source": []
  },
  {
   "cell_type": "code",
   "execution_count": null,
   "id": "99e33cfb",
   "metadata": {},
   "outputs": [],
   "source": []
  }
 ],
 "metadata": {
  "kernelspec": {
   "display_name": "pennylane-gpu",
   "language": "python",
   "name": "python3"
  },
  "language_info": {
   "codemirror_mode": {
    "name": "ipython",
    "version": 3
   },
   "file_extension": ".py",
   "mimetype": "text/x-python",
   "name": "python",
   "nbconvert_exporter": "python",
   "pygments_lexer": "ipython3",
   "version": "3.11.11"
  }
 },
 "nbformat": 4,
 "nbformat_minor": 5
}
