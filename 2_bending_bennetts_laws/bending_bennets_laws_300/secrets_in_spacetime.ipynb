{
 "cells": [
  {
   "cell_type": "markdown",
   "id": "c494ea60",
   "metadata": {},
   "source": [
    "## Challenge code\n",
    " \n",
    " In the code below, you are given a function called `is_unsafe`. **You must complete this function** by coming up with a way — you are given total freedom, from making a variational circuit to finding an analytical solution — to determine if the given values of $\\alpha$ and $\\beta$ values are $\\epsilon$-unsafe.\n",
    "\n",
    " ![img](images/operator_encoder.jpeg)\n",
    "\n",
    " ![img](images/tel-bell.png)\n",
    " \n",
    " ### Inputs\n",
    " \n",
    " As input to this problem, you are given a `list(float)` containing the values of $\\alpha$, $\\beta$, and $\\epsilon$, in that order.\n",
    " \n",
    " ### Output\n",
    " \n",
    " This code must output a boolean — `True` or `False` — corresponding to whether the values of $\\alpha$ and $\\beta$ are $\\epsilon$-unsafe.\n",
    " For example, if you determine that the given values of $\\alpha$ and $\\beta$ *aren't* $\\epsilon$-unsafe, your code must output `False`. \n",
    " \n",
    " If your solution is correct, the output will be `\"Correct!\"` Otherwise, you will receive a `\"Wrong answer\"` prompt.\n",
    " \n",
    " Good luck!\n",
    " ### Imports\n",
    " The cell below specifies the libraries you should use in this challenge. Run the cell to import the libraries. ***Do not modify the cell.***"
   ]
  },
  {
   "cell_type": "code",
   "execution_count": 1,
   "id": "45df8aa0",
   "metadata": {},
   "outputs": [],
   "source": [
    "import json\n",
    "import pennylane as qml\n",
    "from pennylane import numpy as np"
   ]
  },
  {
   "cell_type": "markdown",
   "id": "8af25323",
   "metadata": {},
   "source": [
    "### Code\n",
    " Complete the code below. Note that during QHack, some sections were not editable. We've marked those sections accordingly here, but you can still edit them if you wish."
   ]
  },
  {
   "cell_type": "code",
   "execution_count": null,
   "id": "adf35114",
   "metadata": {},
   "outputs": [],
   "source": [
    "# Uneditable section #\n",
    "def U_psi(theta):\n",
    "    \"\"\"\n",
    "    Quantum function that generates |psi>, Zenda's state wants to send to Reece.\n",
    "\n",
    "    Args:\n",
    "        theta (float): Parameter that generates the state.\n",
    "\n",
    "    \"\"\"\n",
    "    qml.Hadamard(wires = 0)\n",
    "    qml.CRX(theta, wires = [0,1])\n",
    "    qml.CRZ(theta, wires = [0,1])"
   ]
  },
  {
   "cell_type": "code",
   "execution_count": null,
   "id": "0f52cdd7",
   "metadata": {},
   "outputs": [
    {
     "name": "stdout",
     "output_type": "stream",
     "text": [
      "Error: Measurement expval(RX(0.2, wires=[0]) @ RX(0.2, wires=[0]) @ RZ(0.1, wires=[0]) @ RZ(0.1, wires=[0])) not accepted for analytic simulation on default.qubit.\n"
     ]
    }
   ],
   "source": [
    "#### this could be a solution\n",
    "#### BUT the operator RX(beta) @ RX(beta) @ RZ(alpha) @ RZ(alpha) is not a valid observable\n",
    "#### it is not hermitian\n",
    "\n",
    "def is_unsafe_0(alpha, beta, epsilon):\n",
    "\n",
    "    dev = qml.device(\"default.qubit\", wires=2)\n",
    "    @qml.qnode(dev)\n",
    "    def expectation(theta):\n",
    "        U_psi(theta)\n",
    "    \n",
    "        # expectation value of the state |psi> with respect to the operator\n",
    "        # (RX(beta) @ RX(beta)) @ (RZ(alpha) @ RZ(alpha))\n",
    "        # (the encoding)\n",
    "\n",
    "        # op_wire_1 = qml.prod(qml.RX(beta, 0), qml.RZ(alpha, 0))\n",
    "        # op_wire_2 = qml.prod(qml.RX(beta, 1), qml.RZ(alpha, 1))\n",
    "        # return qml.expval(op_wire_1 @ op_wire_2)\n",
    "        return qml.expval((qml.RX(beta, wires=0) @ qml.RX(beta, wires=0)) @ \n",
    "                          (qml.RZ(alpha, wires=0) @ qml.RZ(alpha, wires=0)))\n",
    "      \n",
    "    thetas = np.arange(-np.pi, np.pi, 0.1)\n",
    "    for theta in thetas:\n",
    "        # check if abs(expectation)**2 is >= 1-epsilon\n",
    "        if abs(expectation(theta))**2 >= 1 - epsilon:\n",
    "            return True\n",
    "        return False\n",
    "\n",
    "in0 = [0.1, 0.2, 0.3]\n",
    "try:\n",
    "    print(is_unsafe_0(*in0))\n",
    "except Exception as e:\n",
    "    print(\"Error:\", e)\n",
    "\n",
    "# in the equation we need to consider also the imaginary part"
   ]
  },
  {
   "cell_type": "code",
   "execution_count": null,
   "id": "01b81b8c",
   "metadata": {},
   "outputs": [
    {
     "name": "stdout",
     "output_type": "stream",
     "text": [
      "True\n"
     ]
    }
   ],
   "source": [
    "\n",
    "def is_unsafe(alpha, beta, epsilon):\n",
    "    \"\"\"\n",
    "    Boolean function that we will use to know if a set of parameters is unsafe.\n",
    "\n",
    "    Args:\n",
    "        alpha (float): parameter used to encode the state.\n",
    "        beta (float): parameter used to encode the state.\n",
    "        epsilon (float): unsafe-tolerance.\n",
    "\n",
    "    Returns:\n",
    "        (bool): 'True' if alpha and beta are epsilon-unsafe coefficients. 'False' in the other case.\n",
    "\n",
    "    \"\"\"\n",
    "    # End of uneditable section #\n",
    "    # instead we are going to compute the matrix \n",
    "    # and just compute the matrix multiplication\n",
    "    o = qml.matrix((qml.RX(beta, 0) @ qml.RX(beta, 1)) @\n",
    "                   (qml.RZ(alpha, 0) @ qml.RZ(alpha, 1)))\n",
    "    \n",
    "    bra_0 = np.array([1, 0, 0, 0]) # |00>\n",
    "    ket_0 = bra_0.T\n",
    "    thetas = np.arange(-np.pi, np.pi, 0.1)\n",
    "    for theta in thetas:\n",
    "        U = qml.matrix(U_psi, wire_order=[0,1])(theta)\n",
    "        U_dagger = qml.matrix(qml.adjoint(U_psi), wire_order=[0,1])(theta)\n",
    "\n",
    "        # just matrix multiplication\n",
    "        exp_val = bra_0 @ U_dagger @ o @ U @ ket_0\n",
    "        if abs(exp_val)**2 >= 1 - epsilon:\n",
    "            return True\n",
    "    return False\n",
    "\n",
    "\n",
    "in0 = [0.1, 0.2, 0.3]\n",
    "print(is_unsafe(*in0))"
   ]
  },
  {
   "cell_type": "markdown",
   "id": "f47d0e2a",
   "metadata": {},
   "source": [
    "These functions are responsible for testing the solution. You will need to run the cell below. ***Do not modify the cell.***"
   ]
  },
  {
   "cell_type": "code",
   "execution_count": 23,
   "id": "203710cb",
   "metadata": {},
   "outputs": [],
   "source": [
    "def run(test_case_input: str) -> str:\n",
    "    ins = json.loads(test_case_input)\n",
    "    output = is_unsafe(*ins)\n",
    "    return str(output)\n",
    "\n",
    "def check(solution_output: str, expected_output: str) -> None:\n",
    "    \n",
    "    def bool_to_int(string):\n",
    "        if string == \"True\":\n",
    "            return 1\n",
    "        return 0\n",
    "\n",
    "    solution_output = bool_to_int(solution_output)\n",
    "    expected_output = bool_to_int(expected_output)\n",
    "    assert solution_output == expected_output, \"The solution is not correct.\""
   ]
  },
  {
   "cell_type": "markdown",
   "id": "0bb8c03b",
   "metadata": {},
   "source": [
    "### Test cases\n",
    " Running the cell below will load the test cases. ***Do not modify the cell***.\n",
    " - input: [0.1, 0.2, 0.3]\n",
    " \t+ expected output: True\n",
    " - input: [1.1, 1.2, 0.3]\n",
    " \t+ expected output: False\n",
    " - input: [1.1, 1.2, 0.4]\n",
    " \t+ expected output: True\n",
    " - input: [0.5, 1.9, 0.7]\n",
    " \t+ expected output: True\n",
    " - input: [0.5, 1.9, 0.3]\n",
    " \t+ expected output: False\n",
    " - input: [0.5, 1.1, 0.5]\n",
    " \t+ expected output: True\n",
    " - input: [0.1, 1.1, 0.2]\n",
    " \t+ expected output: False\n",
    " - input: [0.2, 1.0, 0.3]\n",
    " \t+ expected output: True"
   ]
  },
  {
   "cell_type": "code",
   "execution_count": 24,
   "id": "7b722359",
   "metadata": {},
   "outputs": [],
   "source": [
    "test_cases = [['[0.1, 0.2, 0.3]', 'True'], ['[1.1, 1.2, 0.3]', 'False'], ['[1.1, 1.2, 0.4]', 'True'], ['[0.5, 1.9, 0.7]', 'True'], ['[0.5, 1.9, 0.3]', 'False'], ['[0.5, 1.1, 0.5]', 'True'], ['[0.1, 1.1, 0.2]', 'False'], ['[0.2, 1.0, 0.3]', 'True']]"
   ]
  },
  {
   "cell_type": "markdown",
   "id": "ac602cc8",
   "metadata": {},
   "source": [
    "### Solution testing\n",
    " Once you have run every cell above, including the one with your code, the cell below will test your solution. Run the cell. If you are correct for all of the test cases, it means your solutions is correct. Otherwise, you need to double check your work. ***Do not modify the cell below.***"
   ]
  },
  {
   "cell_type": "code",
   "execution_count": 25,
   "id": "ba1abfdb",
   "metadata": {},
   "outputs": [
    {
     "name": "stdout",
     "output_type": "stream",
     "text": [
      "Running test case 0 with input '[0.1, 0.2, 0.3]'...\n",
      "Correct!\n",
      "Running test case 1 with input '[1.1, 1.2, 0.3]'...\n",
      "Correct!\n",
      "Running test case 2 with input '[1.1, 1.2, 0.4]'...\n",
      "Correct!\n",
      "Running test case 3 with input '[0.5, 1.9, 0.7]'...\n",
      "Correct!\n",
      "Running test case 4 with input '[0.5, 1.9, 0.3]'...\n",
      "Correct!\n",
      "Running test case 5 with input '[0.5, 1.1, 0.5]'...\n",
      "Correct!\n",
      "Running test case 6 with input '[0.1, 1.1, 0.2]'...\n",
      "Correct!\n",
      "Running test case 7 with input '[0.2, 1.0, 0.3]'...\n",
      "Correct!\n"
     ]
    }
   ],
   "source": [
    "for i, (input_, expected_output) in enumerate(test_cases):\n",
    "    print(f\"Running test case {i} with input '{input_}'...\")\n",
    "\n",
    "    try:\n",
    "        output = run(input_)\n",
    "\n",
    "    except Exception as exc:\n",
    "        print(f\"Runtime Error. {exc}\")\n",
    "\n",
    "    else:\n",
    "        if message := check(output, expected_output):\n",
    "            print(f\"Wrong Answer. Have: '{output}'. Want: '{expected_output}'.\")\n",
    "\n",
    "        else:\n",
    "            print(\"Correct!\")"
   ]
  },
  {
   "cell_type": "code",
   "execution_count": null,
   "id": "5f7a04fd",
   "metadata": {},
   "outputs": [],
   "source": []
  }
 ],
 "metadata": {
  "kernelspec": {
   "display_name": "pennylane-gpu",
   "language": "python",
   "name": "python3"
  },
  "language_info": {
   "codemirror_mode": {
    "name": "ipython",
    "version": 3
   },
   "file_extension": ".py",
   "mimetype": "text/x-python",
   "name": "python",
   "nbconvert_exporter": "python",
   "pygments_lexer": "ipython3",
   "version": "3.11.11"
  }
 },
 "nbformat": 4,
 "nbformat_minor": 5
}
