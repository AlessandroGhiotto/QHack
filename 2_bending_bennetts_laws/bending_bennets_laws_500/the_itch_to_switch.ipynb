{
 "cells": [
  {
   "cell_type": "markdown",
   "id": "abdfc09f",
   "metadata": {},
   "source": [
    "## Challenge code\n",
    " \n",
    " In the code below, you are given a number of functions:\n",
    " - `zenda_operator`: Quantum function corresponding to the operator to be applied by Zenda on her qubits. **You must complete this function.**\n",
    " - `reece_operator`: Quantum function corresponding to the operator to be applied by Reece on his qubits. **You must complete this function.**\n",
    " - `magic_operator`: The magic operator provided by Trine to be applied on the initially entangled qubits $Z_1$ and $R_1$. **You must complete this function.**\n",
    " \n",
    "![img](images/magic_zr.jpeg)\n",
    "\n",
    "\n",
    " ### Inputs and outputs\n",
    " \n",
    " There are no inputs nor outputs for this challenge. You answer will be judged based on the fact that your circuit produces the correct final state for any combination of basis states $\\lvert j \\rangle_{Z_0}$ and $\\lvert k \\rangle_{R_0}$. This will be verified in the `check` function. \n",
    " \n",
    " ### Imports\n",
    " The cell below specifies the libraries you should use in this challenge. Run the cell to import the libraries. ***Do not modify the cell.***"
   ]
  },
  {
   "cell_type": "code",
   "execution_count": 2,
   "id": "a7929dc6",
   "metadata": {},
   "outputs": [],
   "source": [
    "import json\n",
    "import pennylane as qml\n",
    "from pennylane import numpy as np"
   ]
  },
  {
   "cell_type": "markdown",
   "id": "cee20bc5",
   "metadata": {},
   "source": [
    "### Code\n",
    " Complete the code below. Note that during QHack, some sections were not editable. We've marked those sections accordingly here, but you can still edit them if you wish."
   ]
  },
  {
   "cell_type": "code",
   "execution_count": null,
   "id": "19b8d717",
   "metadata": {},
   "outputs": [
    {
     "name": "stdout",
     "output_type": "stream",
     "text": [
      "z0: ──|Ψ⟩─────||─╭●──||───────┤ ╭Probs\n",
      "z1: ──H───╭●──||─╰X──||─╭●──H─┤ ├Probs\n",
      "r1: ──────╰X──||─╭Z──||─╰X────┤ ├Probs\n",
      "r0: ──|Ψ⟩─────||─╰●──||───────┤ ╰Probs \n",
      "\n",
      "[1. 0. 0. 0. 0. 0. 0. 0. 0. 0. 0. 0. 0. 0. 0. 0.]\n"
     ]
    }
   ],
   "source": [
    "def zenda_operator():\n",
    "    \"\"\"\n",
    "    Quantum function corresponding to the operator to be applied by\n",
    "    Zenda in her qubits.This function does not return anything, \n",
    "    you must simply write the necessary gates.\n",
    "    \"\"\"\n",
    "    qml.CNOT(wires=[\"z0\", \"z1\"])\n",
    "\n",
    "def reece_operator():\n",
    "    \"\"\"\n",
    "    Quantum function corresponding to the operator to be applied by\n",
    "    Reece in his qubits.This function does not return anything, \n",
    "    you must simply write the necessary gates.\n",
    "    \"\"\"\n",
    "    qml.CZ(wires=[\"r0\", \"r1\"])\n",
    "\n",
    "def magic_operator():\n",
    "    \"\"\"\n",
    "    Quantum function corresponding to the operator to be applied on the \"z1\"\n",
    "    and \"r1\" qubits. This function does not return anything, you must\n",
    "    simply write the necessary gates.\n",
    "\n",
    "    \"\"\"\n",
    "    qml.CNOT(wires=[\"z1\", \"r1\"])\n",
    "    qml.Hadamard(wires=[\"z1\"])\n",
    " \n",
    "def bell_generator():\n",
    "    \"\"\"\n",
    "    Quantum function preparing bell state shared by Reece and Zenda.\n",
    "    \"\"\"\n",
    "    qml.Hadamard(wires=[\"z1\"])\n",
    "    qml.CNOT(wires=[\"z1\", \"r1\"])\n",
    "\n",
    "\n",
    "dev = qml.device(\"default.qubit\", wires=[\"z0\", \"z1\", \"r1\", \"r0\"])\n",
    "\n",
    "@qml.qnode(dev)\n",
    "def circuit(j, k):\n",
    "    qml.BasisEmbedding([j], wires=\"z0\") # j encoding\n",
    "    qml.BasisEmbedding([k], wires=\"r0\") # k encoding\n",
    "    bell_generator()\n",
    "\n",
    "    qml.Barrier(only_visual=True)\n",
    "\n",
    "    # Zenda operation\n",
    "    zenda_operator()\n",
    "\n",
    "    # Reece operation\n",
    "    reece_operator()\n",
    "\n",
    "    qml.Barrier(only_visual=True)\n",
    "    magic_operator()\n",
    "\n",
    "    return qml.probs(wires=dev.wires)\n",
    "\n",
    "print(qml.draw(circuit)(0,1), \"\\n\")\n",
    "print(circuit(0,0)) # get as output |0000> state"
   ]
  },
  {
   "cell_type": "markdown",
   "id": "c2f2a82f",
   "metadata": {},
   "source": [
    "These functions are responsible for testing the solution. You will need to run the cell below. ***Do not modify the cell.***"
   ]
  },
  {
   "cell_type": "code",
   "execution_count": null,
   "id": "5503bd91",
   "metadata": {},
   "outputs": [],
   "source": [
    "def run(test_case_input: str) -> str:\n",
    "    return None\n",
    "\n",
    "\n",
    "def check(solution_output: str, expected_output: str) -> None:\n",
    "\n",
    "    try:\n",
    "        dev1 = qml.device(\"default.qubit\", wires = [\"z0\", \"z1\"])\n",
    "        @qml.qnode(dev1)\n",
    "        def circuit1():\n",
    "            zenda_operator()\n",
    "            return qml.probs(dev1.wires)\n",
    "        circuit1()\n",
    "    except:\n",
    "        assert False, \"zenda_operator can only act on z0 and z1 wires\"\n",
    "\n",
    "    try:\n",
    "        dev2 = qml.device(\"default.qubit\", wires = [\"r0\", \"r1\"])\n",
    "        @qml.qnode(dev2)\n",
    "        def circuit2():\n",
    "            reece_operator()\n",
    "            return qml.probs(dev2.wires)\n",
    "        circuit2()\n",
    "    except:\n",
    "        assert False, \"reece_operator can only act on r0 and r1 wires\"\n",
    "    try:\n",
    "        dev3 = qml.device(\"default.qubit\", wires = [\"z1\", \"r1\"])\n",
    "        @qml.qnode(dev3)\n",
    "        def circuit3():\n",
    "            magic_operator()\n",
    "            return qml.probs(dev3.wires)\n",
    "        circuit3()\n",
    "    except:\n",
    "        assert False, \"magic_operator can only act on r1 and z1 wires\"\n",
    "\n",
    "\n",
    "    for j in range(2):\n",
    "        for k in range(2):\n",
    "            assert np.isclose(circuit(j, k)[10 * j + 5 * k], 1), \"The output is not correct\""
   ]
  },
  {
   "cell_type": "markdown",
   "id": "7957944e",
   "metadata": {},
   "source": [
    "### Test cases\n",
    " Running the cell below will load the test cases. ***Do not modify the cell***.\n",
    " - input: No input\n",
    " \t+ expected output: No output\n",
    " - input: No input\n",
    " \t+ expected output: No output"
   ]
  },
  {
   "cell_type": "code",
   "execution_count": null,
   "id": "ea29e4bf",
   "metadata": {},
   "outputs": [],
   "source": [
    "test_cases = [['No input', 'No output'], ['No input', 'No output']]"
   ]
  },
  {
   "cell_type": "markdown",
   "id": "aa8d9fc1",
   "metadata": {},
   "source": [
    "### Solution testing\n",
    " Once you have run every cell above, including the one with your code, the cell below will test your solution. Run the cell. If you are correct for all of the test cases, it means your solutions is correct. Otherwise, you need to double check your work. ***Do not modify the cell below.***"
   ]
  },
  {
   "cell_type": "code",
   "execution_count": null,
   "id": "5612437a",
   "metadata": {},
   "outputs": [],
   "source": [
    "for i, (input_, expected_output) in enumerate(test_cases):\n",
    "    print(f\"Running test case {i} with input '{input_}'...\")\n",
    "\n",
    "    try:\n",
    "        output = run(input_)\n",
    "\n",
    "    except Exception as exc:\n",
    "        print(f\"Runtime Error. {exc}\")\n",
    "\n",
    "    else:\n",
    "        if message := check(output, expected_output):\n",
    "            print(f\"Wrong Answer. Have: '{output}'. Want: '{expected_output}'.\")\n",
    "\n",
    "        else:\n",
    "            print(\"Correct!\")"
   ]
  }
 ],
 "metadata": {
  "kernelspec": {
   "display_name": "pennylane-gpu",
   "language": "python",
   "name": "python3"
  },
  "language_info": {
   "codemirror_mode": {
    "name": "ipython",
    "version": 3
   },
   "file_extension": ".py",
   "mimetype": "text/x-python",
   "name": "python",
   "nbconvert_exporter": "python",
   "pygments_lexer": "ipython3",
   "version": "3.11.11"
  }
 },
 "nbformat": 4,
 "nbformat_minor": 5
}
